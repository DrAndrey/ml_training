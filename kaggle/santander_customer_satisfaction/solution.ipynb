{
 "cells": [
  {
   "cell_type": "markdown",
   "metadata": {},
   "source": [
    "# Santander Customer Satisfaction"
   ]
  },
  {
   "cell_type": "markdown",
   "metadata": {},
   "source": [
    "## Планы"
   ]
  },
  {
   "cell_type": "markdown",
   "metadata": {},
   "source": [
    "* Байесовская оптимизация параметров:\n",
    "    * hyperopt;\n",
    "    * bayesboost;\n",
    "    * moe;\n",
    "    * https://github.com/HIPS/Spearmint.\n",
    "* Комбинации моделей:\n",
    "    * простое усреднение;\n",
    "    * проверить корреляцию результатов;\n",
    "    * усреднение по правильным классам;\n",
    "    * оптимизировать коэффициенты перед моделями.\n",
    "* Vowpal wabbit с и без полиноминальным представлением переменных.\n",
    "* Фреймворк для объединения моделей.\n",
    "* Автоматическое решение для поиска лучшей комбинации моделей, причем идеи для более быстрого поиска лучших комбинаций моделей и их параметров можно брать из байесовской оптимизации.\n"
   ]
  },
  {
   "cell_type": "markdown",
   "metadata": {},
   "source": [
    "## Решение"
   ]
  },
  {
   "cell_type": "code",
   "execution_count": 1,
   "metadata": {
    "collapsed": false
   },
   "outputs": [
    {
     "data": {
      "text/plain": [
       "<module 'ml_training.common' from 'E:\\\\projects\\\\ml_training\\\\common.py'>"
      ]
     },
     "execution_count": 1,
     "metadata": {},
     "output_type": "execute_result"
    }
   ],
   "source": [
    "%matplotlib inline\n",
    "\n",
    "import os\n",
    "import random\n",
    "import multiprocessing\n",
    "from importlib import reload\n",
    "\n",
    "import numpy as np\n",
    "import scipy as sp\n",
    "import pandas as pd\n",
    "import pylab\n",
    "\n",
    "from sklearn.grid_search import GridSearchCV\n",
    "from sklearn.ensemble import AdaBoostClassifier\n",
    "from sklearn.cross_validation import StratifiedKFold, cross_val_score\n",
    "import xgboost as xgb\n",
    "\n",
    "import ml_training.common as common\n",
    "reload(common)"
   ]
  },
  {
   "cell_type": "code",
   "execution_count": 2,
   "metadata": {
    "collapsed": true
   },
   "outputs": [],
   "source": [
    "def find_constant_columns(df):\n",
    "    return [column for column in df.columns if len(df[column].unique()) < 2]"
   ]
  },
  {
   "cell_type": "code",
   "execution_count": 3,
   "metadata": {
    "collapsed": false
   },
   "outputs": [],
   "source": [
    "def find_equal_columns(df):\n",
    "    equal_columns = []\n",
    "    for col_num, column1 in enumerate(df.columns[: -1]):\n",
    "        for column2 in df.columns[col_num+1:]:\n",
    "            if not (df[column1] - df[column2]).any():\n",
    "                equal_columns.append(column2)\n",
    "    return list(set(equal_columns))"
   ]
  },
  {
   "cell_type": "code",
   "execution_count": 4,
   "metadata": {
    "collapsed": true
   },
   "outputs": [],
   "source": [
    "RANDOM_STATE = 100\n",
    "NCPU = multiprocessing.cpu_count() - 1\n",
    "random.seed(RANDOM_STATE)"
   ]
  },
  {
   "cell_type": "code",
   "execution_count": 5,
   "metadata": {
    "collapsed": false
   },
   "outputs": [],
   "source": [
    "train_df = pd.read_csv(os.path.join(\"input\", \"train.csv\"))"
   ]
  },
  {
   "cell_type": "code",
   "execution_count": 6,
   "metadata": {
    "collapsed": false
   },
   "outputs": [],
   "source": [
    "constant_columns = find_constant_columns(train_df)\n",
    "equal_columns = find_equal_columns(train_df)\n",
    "drop_columns = list(set(constant_columns).union(equal_columns))"
   ]
  },
  {
   "cell_type": "code",
   "execution_count": 7,
   "metadata": {
    "collapsed": false
   },
   "outputs": [],
   "source": [
    "train_df.drop(drop_columns, inplace=True, axis=1)"
   ]
  },
  {
   "cell_type": "code",
   "execution_count": 8,
   "metadata": {
    "collapsed": true
   },
   "outputs": [],
   "source": [
    "train_x = train_df.loc[:, \"var3\": \"var38\"]\n",
    "train_y = train_df[\"TARGET\"]"
   ]
  },
  {
   "cell_type": "code",
   "execution_count": 9,
   "metadata": {
    "collapsed": false
   },
   "outputs": [
    {
     "data": {
      "text/plain": [
       "(306, 306, 306)"
      ]
     },
     "execution_count": 9,
     "metadata": {},
     "output_type": "execute_result"
    }
   ],
   "source": [
    "if_mask = common.get_independent_features_mask(train_x.values, tol=0, is_plot=False) # 5e-7\n",
    "uncorr_mask = common.find_corr_features_mask(train_x.values, trashhold=1.1) # 0.995\n",
    "res_mask = if_mask & uncorr_mask\n",
    "if_mask.sum(), uncorr_mask.sum(), res_mask.sum()"
   ]
  },
  {
   "cell_type": "code",
   "execution_count": 10,
   "metadata": {
    "collapsed": false
   },
   "outputs": [],
   "source": [
    "train_x = train_x.loc[:, res_mask]"
   ]
  },
  {
   "cell_type": "code",
   "execution_count": 11,
   "metadata": {
    "collapsed": false
   },
   "outputs": [],
   "source": [
    "cv = StratifiedKFold(train_y, 5, shuffle=True, random_state=RANDOM_STATE)"
   ]
  },
  {
   "cell_type": "code",
   "execution_count": 12,
   "metadata": {
    "collapsed": false
   },
   "outputs": [],
   "source": [
    "xgbc = xgb.XGBClassifier(n_estimators=150, max_depth=3, seed=RANDOM_STATE)"
   ]
  },
  {
   "cell_type": "code",
   "execution_count": 13,
   "metadata": {
    "collapsed": false
   },
   "outputs": [
    {
     "name": "stdout",
     "output_type": "stream",
     "text": [
      "Fitting 5 folds for each of 1 candidates, totalling 5 fits\n"
     ]
    },
    {
     "name": "stderr",
     "output_type": "stream",
     "text": [
      "[Parallel(n_jobs=7)]: Done   6 out of   5 | elapsed:   54.9s remaining:    0.0s\n",
      "[Parallel(n_jobs=7)]: Done   6 out of   5 | elapsed:   58.4s remaining:    0.0s\n",
      "[Parallel(n_jobs=7)]: Done   6 out of   5 | elapsed:  1.0min remaining:    0.0s\n",
      "[Parallel(n_jobs=7)]: Done   6 out of   5 | elapsed:  1.1min remaining:    0.0s\n",
      "[Parallel(n_jobs=7)]: Done   5 out of   5 | elapsed:  1.1min finished\n"
     ]
    },
    {
     "data": {
      "text/plain": [
       "GridSearchCV(cv=sklearn.cross_validation.StratifiedKFold(labels=[0 0 ..., 0 0], n_folds=5, shuffle=True, random_state=100),\n",
       "       error_score='raise',\n",
       "       estimator=XGBClassifier(base_score=0.5, colsample_bylevel=1, colsample_bytree=1,\n",
       "       gamma=0, learning_rate=0.1, max_delta_step=0, max_depth=3,\n",
       "       min_child_weight=1, missing=None, n_estimators=150, nthread=-1,\n",
       "       objective='binary:logistic', reg_alpha=0, reg_lambda=1,\n",
       "       scale_pos_weight=1, seed=100, silent=True, subsample=1),\n",
       "       fit_params={}, iid=True, n_jobs=7,\n",
       "       param_grid={'n_estimators': [150], 'seed': [100], 'max_depth': [3]},\n",
       "       pre_dispatch='2*n_jobs', refit=False, scoring='roc_auc', verbose=10)"
      ]
     },
     "execution_count": 13,
     "metadata": {},
     "output_type": "execute_result"
    }
   ],
   "source": [
    "params = {\"n_estimators\": [150], \"max_depth\": [3], \"seed\": [RANDOM_STATE]}\n",
    "gs = GridSearchCV(xgbc, params, scoring=\"roc_auc\", cv=cv, n_jobs=NCPU, refit=False, verbose=10)\n",
    "gs.fit(train_x, train_y)"
   ]
  },
  {
   "cell_type": "code",
   "execution_count": 14,
   "metadata": {
    "collapsed": false
   },
   "outputs": [
    {
     "data": {
      "text/plain": [
       "[mean: 0.83896, std: 0.00439, params: {'n_estimators': 150, 'seed': 100, 'max_depth': 3}]"
      ]
     },
     "execution_count": 14,
     "metadata": {},
     "output_type": "execute_result"
    }
   ],
   "source": [
    "gs.grid_scores_"
   ]
  },
  {
   "cell_type": "markdown",
   "metadata": {},
   "source": [
    "mean: 0.84068, std: 0.00541, params: {'max_depth': 5, 'n_estimators': 350, 'colsample_bytree': 0.85, 'learning_rate': 0.03, 'subsample': 0.95, 'seed': 4242}\n",
    "\n",
    "mean: 0.83952, std: 0.00440, params: {'seed': 100, 'n_estimators': 150, 'max_depth': 3, 'cc_trashhold': 0.995}\n",
    "\n",
    "mean: 0.83896, std: 0.00439, params: {'max_depth': 3, 'n_estimators': 150, 'seed': 100, 'qr_tol': 0}\n",
    "\n",
    "mean: 0.83866, std: 0.00442, params: {'max_depth': 3, 'n_estimators': 150, 'seed': 100, 'qr_tol': 5e-7}\n",
    "\n",
    "mean: 0.83962, std: 0.00407, params: {'n_estimators': 150, 'seed': 100, 'max_depth': 3, 'fi_trashhold': 0}\n",
    "\n",
    "mean: 0.83985, std: 0.00420, params: {'n_estimators': 150, 'seed': 100, 'max_depth': 3, 'fi_trashhold': 0.0025}\n",
    "\n",
    "mean: 0.83874, std: 0.00497, params: {'n_estimators': 150, 'seed': 100, 'max_depth': 3, 'fi_trashhold': 0.0025, 'qr_tol': 5e-7}"
   ]
  },
  {
   "cell_type": "code",
   "execution_count": 15,
   "metadata": {
    "collapsed": false
   },
   "outputs": [
    {
     "data": {
      "text/plain": [
       "XGBClassifier(base_score=0.5, colsample_bylevel=1, colsample_bytree=1,\n",
       "       gamma=0, learning_rate=0.1, max_delta_step=0, max_depth=3,\n",
       "       min_child_weight=1, missing=None, n_estimators=150, nthread=-1,\n",
       "       objective='binary:logistic', reg_alpha=0, reg_lambda=1,\n",
       "       scale_pos_weight=1, seed=100, silent=True, subsample=1)"
      ]
     },
     "execution_count": 15,
     "metadata": {},
     "output_type": "execute_result"
    }
   ],
   "source": [
    "xgbc.fit(train_x.values, train_y.values)"
   ]
  },
  {
   "cell_type": "code",
   "execution_count": 16,
   "metadata": {
    "collapsed": false
   },
   "outputs": [],
   "source": [
    "test_df = pd.read_csv(os.path.join(\"input\", \"test.csv\"))\n",
    "test_df.drop(drop_columns, inplace=True, axis=1)\n",
    "test_x = test_df.loc[:, \"var3\": \"var38\"]\n",
    "test_x = test_x.loc[:, res_mask]"
   ]
  },
  {
   "cell_type": "code",
   "execution_count": 17,
   "metadata": {
    "collapsed": false
   },
   "outputs": [],
   "source": [
    "test_y = xgbc.predict_proba(test_x)[:, 1]"
   ]
  },
  {
   "cell_type": "code",
   "execution_count": 18,
   "metadata": {
    "collapsed": false
   },
   "outputs": [],
   "source": [
    "common.save_output(np.array([test_df[\"ID\"].values, test_y]).T, [\"ID\", \"TARGET\"])"
   ]
  },
  {
   "cell_type": "code",
   "execution_count": 15,
   "metadata": {
    "collapsed": false
   },
   "outputs": [
    {
     "name": "stderr",
     "output_type": "stream",
     "text": [
      "[Parallel(n_jobs=3)]: Done   6 out of   5 | elapsed:  2.8min remaining:    0.0s\n",
      "[Parallel(n_jobs=3)]: Done   6 out of   5 | elapsed:  2.8min remaining:    0.0s\n",
      "[Parallel(n_jobs=3)]: Done   6 out of   5 | elapsed:  4.5min remaining:    0.0s\n",
      "[Parallel(n_jobs=3)]: Done   6 out of   5 | elapsed:  4.6min remaining:    0.0s\n",
      "[Parallel(n_jobs=3)]: Done   5 out of   5 | elapsed:  4.6min finished\n"
     ]
    },
    {
     "data": {
      "text/plain": [
       "array([ 0.84395352,  0.84205204,  0.84081926,  0.83609162,  0.83186437])"
      ]
     },
     "execution_count": 15,
     "metadata": {},
     "output_type": "execute_result"
    }
   ],
   "source": [
    "cross_val_score(xgbc, train_x, train_y, scoring=\"roc_auc\", cv=cv, n_jobs=NCPU, verbose=10)"
   ]
  }
 ],
 "metadata": {
  "kernelspec": {
   "display_name": "Python 3",
   "language": "python",
   "name": "python3"
  },
  "language_info": {
   "codemirror_mode": {
    "name": "ipython",
    "version": 3
   },
   "file_extension": ".py",
   "mimetype": "text/x-python",
   "name": "python",
   "nbconvert_exporter": "python",
   "pygments_lexer": "ipython3",
   "version": "3.5.1"
  }
 },
 "nbformat": 4,
 "nbformat_minor": 0
}
