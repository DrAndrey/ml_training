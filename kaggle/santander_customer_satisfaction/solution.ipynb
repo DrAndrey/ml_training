{
 "cells": [
  {
   "cell_type": "markdown",
   "metadata": {},
   "source": [
    "# Santander Customer Satisfaction"
   ]
  },
  {
   "cell_type": "markdown",
   "metadata": {},
   "source": [
    "## Планы"
   ]
  },
  {
   "cell_type": "markdown",
   "metadata": {},
   "source": [
    "* Взять свой xgboost дома.\n",
    "* Собрать его под mingw.\n",
    "* Разобраться с pull request.\n",
    "\n",
    "\n",
    "* Байесовская оптимизация параметров:\n",
    "    * hyperopt;\n",
    "    * bayesboost;\n",
    "    * moe;\n",
    "    * https://github.com/HIPS/Spearmint.\n",
    "* Попробовать преобразования признаков.\n",
    "* AdaBoost.\n",
    "* Комбинации моделей:\n",
    "    * простое усреднение;\n",
    "    * проверить корреляцию результатов;\n",
    "    * усреднение по правильным классам;\n",
    "    * оптимизировать коэффициенты перед моделями.\n",
    "* Фреймворк для объединения моделей.\n",
    "* Автоматическое решение для поиска лучшей комбинации моделей, причем идеи для более быстрого поиска лучших комбинаций моделей и их параметров можно брать из байесовской оптимизации.\n"
   ]
  },
  {
   "cell_type": "markdown",
   "metadata": {},
   "source": [
    "## Решение"
   ]
  },
  {
   "cell_type": "code",
   "execution_count": 1,
   "metadata": {
    "collapsed": false
   },
   "outputs": [
    {
     "data": {
      "text/plain": [
       "<module 'ml_training.common' from 'F:\\\\Documents\\\\Projects\\\\ml_training\\\\common.py'>"
      ]
     },
     "execution_count": 1,
     "metadata": {},
     "output_type": "execute_result"
    }
   ],
   "source": [
    "%matplotlib inline\n",
    "\n",
    "import os\n",
    "import random\n",
    "import multiprocessing\n",
    "from importlib import reload\n",
    "\n",
    "import numpy as np\n",
    "import scipy as sp\n",
    "import pandas as pd\n",
    "import pylab\n",
    "\n",
    "from sklearn.grid_search import GridSearchCV\n",
    "from sklearn.ensemble import AdaBoostClassifier\n",
    "from sklearn.cross_validation import StratifiedKFold, cross_val_score\n",
    "import xgboost as xgb\n",
    "\n",
    "import ml_training.common as common\n",
    "reload(common)"
   ]
  },
  {
   "cell_type": "code",
   "execution_count": 2,
   "metadata": {
    "collapsed": true
   },
   "outputs": [],
   "source": [
    "def find_constant_columns(df):\n",
    "    return [column for column in df.columns if len(df[column].unique()) < 2]"
   ]
  },
  {
   "cell_type": "code",
   "execution_count": 3,
   "metadata": {
    "collapsed": false
   },
   "outputs": [],
   "source": [
    "def find_equal_columns(df):\n",
    "    equal_columns = []\n",
    "    for col_num, column1 in enumerate(df.columns[: -1]):\n",
    "        for column2 in df.columns[col_num+1:]:\n",
    "            if not (df[column1] - df[column2]).any():\n",
    "                equal_columns.append(column2)\n",
    "    return list(set(equal_columns))"
   ]
  },
  {
   "cell_type": "code",
   "execution_count": 4,
   "metadata": {
    "collapsed": true
   },
   "outputs": [],
   "source": [
    "RANDOM_STATE = 100\n",
    "NCPU = multiprocessing.cpu_count() - 1\n",
    "random.seed(RANDOM_STATE)"
   ]
  },
  {
   "cell_type": "code",
   "execution_count": 5,
   "metadata": {
    "collapsed": false
   },
   "outputs": [],
   "source": [
    "train_df = pd.read_csv(os.path.join(\"input\", \"train.csv\"))"
   ]
  },
  {
   "cell_type": "code",
   "execution_count": 6,
   "metadata": {
    "collapsed": false
   },
   "outputs": [],
   "source": [
    "constant_columns = find_constant_columns(train_df)\n",
    "equal_columns = find_equal_columns(train_df)\n",
    "drop_columns = list(set(constant_columns).union(equal_columns))"
   ]
  },
  {
   "cell_type": "code",
   "execution_count": 7,
   "metadata": {
    "collapsed": false
   },
   "outputs": [],
   "source": [
    "train_df.drop(drop_columns, inplace=True, axis=1)"
   ]
  },
  {
   "cell_type": "code",
   "execution_count": 8,
   "metadata": {
    "collapsed": true
   },
   "outputs": [],
   "source": [
    "train_x = train_df.loc[:, \"var3\": \"var38\"]\n",
    "train_y = train_df[\"TARGET\"]"
   ]
  },
  {
   "cell_type": "code",
   "execution_count": 9,
   "metadata": {
    "collapsed": false
   },
   "outputs": [
    {
     "data": {
      "text/plain": [
       "(306, 306, 306)"
      ]
     },
     "execution_count": 9,
     "metadata": {},
     "output_type": "execute_result"
    }
   ],
   "source": [
    "if_mask = common.get_independent_features_mask(train_x.values, tol=0, is_plot=False) # 5e-7\n",
    "uncorr_mask = common.find_corr_features_mask(train_x.values, trashhold=1.1) # 0.995\n",
    "res_mask = if_mask & uncorr_mask\n",
    "if_mask.sum(), uncorr_mask.sum(), res_mask.sum()"
   ]
  },
  {
   "cell_type": "code",
   "execution_count": 10,
   "metadata": {
    "collapsed": false
   },
   "outputs": [],
   "source": [
    "train_x = train_x.loc[:, res_mask]"
   ]
  },
  {
   "cell_type": "code",
   "execution_count": 11,
   "metadata": {
    "collapsed": false
   },
   "outputs": [],
   "source": [
    "cv = StratifiedKFold(train_y, 5, shuffle=True, random_state=RANDOM_STATE)"
   ]
  },
  {
   "cell_type": "code",
   "execution_count": null,
   "metadata": {
    "collapsed": false
   },
   "outputs": [],
   "source": [
    "xgbc = xgb.XGBClassifier(n_estimators=150, max_depth=3, seed=RANDOM_STATE)"
   ]
  },
  {
   "cell_type": "code",
   "execution_count": null,
   "metadata": {
    "collapsed": false
   },
   "outputs": [
    {
     "name": "stdout",
     "output_type": "stream",
     "text": [
      "Fitting 5 folds for each of 1 candidates, totalling 5 fits\n"
     ]
    }
   ],
   "source": [
    "params = {\"n_estimators\": [150], \"max_depth\": [3], \"seed\": [RANDOM_STATE]}\n",
    "gs = GridSearchCV(xgbc, params, scoring=\"roc_auc\", cv=cv, n_jobs=NCPU, refit=False, verbose=10)\n",
    "gs.fit(train_x, train_y)"
   ]
  },
  {
   "cell_type": "code",
   "execution_count": null,
   "metadata": {
    "collapsed": false
   },
   "outputs": [],
   "source": [
    "gs.grid_scores_"
   ]
  },
  {
   "cell_type": "markdown",
   "metadata": {},
   "source": [
    "mean: 0.84068, std: 0.00541, params: {'max_depth': 5, 'n_estimators': 350, 'colsample_bytree': 0.85, 'learning_rate': 0.03, 'subsample': 0.95, 'seed': 4242}\n",
    "\n",
    "mean: 0.83952, std: 0.00440, params: {'seed': 100, 'n_estimators': 150, 'max_depth': 3, 'cc_trashhold': 0.995}\n",
    "\n",
    "mean: 0.83896, std: 0.00439, params: {'max_depth': 3, 'n_estimators': 150, 'seed': 100, 'qr_tol': 0}\n",
    "\n",
    "mean: 0.83866, std: 0.00442, params: {'max_depth': 3, 'n_estimators': 150, 'seed': 100, 'qr_tol': 5e-7}\n",
    "\n",
    "mean: 0.83962, std: 0.00407, params: {'n_estimators': 150, 'seed': 100, 'max_depth': 3, 'fi_trashhold': 0}\n",
    "\n",
    "mean: 0.83985, std: 0.00420, params: {'n_estimators': 150, 'seed': 100, 'max_depth': 3, 'fi_trashhold': 0.0025}\n",
    "\n",
    "mean: 0.83874, std: 0.00497, params: {'n_estimators': 150, 'seed': 100, 'max_depth': 3, 'fi_trashhold': 0.0025, 'qr_tol': 5e-7}"
   ]
  },
  {
   "cell_type": "code",
   "execution_count": null,
   "metadata": {
    "collapsed": false
   },
   "outputs": [],
   "source": [
    "xgbc.fit(train_x.values, train_y.values)"
   ]
  },
  {
   "cell_type": "code",
   "execution_count": null,
   "metadata": {
    "collapsed": false
   },
   "outputs": [],
   "source": [
    "test_df = pd.read_csv(os.path.join(\"input\", \"test.csv\"))\n",
    "test_df.drop(drop_columns, inplace=True, axis=1)\n",
    "test_x = test_df.loc[:, \"var3\": \"var38\"]\n",
    "test_x = test_x.loc[:, res_mask]"
   ]
  },
  {
   "cell_type": "code",
   "execution_count": null,
   "metadata": {
    "collapsed": false
   },
   "outputs": [],
   "source": [
    "test_y = xgbc.predict_proba(test_x)[:, 1]"
   ]
  },
  {
   "cell_type": "code",
   "execution_count": null,
   "metadata": {
    "collapsed": false
   },
   "outputs": [],
   "source": [
    "common.save_output(np.array([test_df[\"ID\"].values, test_y]).T, [\"ID\", \"TARGET\"])"
   ]
  },
  {
   "cell_type": "code",
   "execution_count": null,
   "metadata": {
    "collapsed": false
   },
   "outputs": [],
   "source": [
    "#abc = AdaBoostClassifier(base_estimator=xgbc, random_state=RANDOM_STATE, )"
   ]
  },
  {
   "cell_type": "code",
   "execution_count": null,
   "metadata": {
    "collapsed": false
   },
   "outputs": [],
   "source": [
    "#cross_val_score(abc, train_x, train_y, scoring=\"roc_auc\", cv=cv, n_jobs=NCPU, verbose=10)"
   ]
  }
 ],
 "metadata": {
  "kernelspec": {
   "display_name": "Python 3",
   "language": "python",
   "name": "python3"
  },
  "language_info": {
   "codemirror_mode": {
    "name": "ipython",
    "version": 3
   },
   "file_extension": ".py",
   "mimetype": "text/x-python",
   "name": "python",
   "nbconvert_exporter": "python",
   "pygments_lexer": "ipython3",
   "version": "3.5.1"
  }
 },
 "nbformat": 4,
 "nbformat_minor": 0
}
