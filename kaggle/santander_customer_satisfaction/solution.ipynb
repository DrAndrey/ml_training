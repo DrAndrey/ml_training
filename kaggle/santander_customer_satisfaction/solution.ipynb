{
 "cells": [
  {
   "cell_type": "markdown",
   "metadata": {},
   "source": [
    "# Santander Customer Satisfaction"
   ]
  },
  {
   "cell_type": "markdown",
   "metadata": {},
   "source": [
    "## Планы"
   ]
  },
  {
   "cell_type": "markdown",
   "metadata": {},
   "source": [
    "* Hyperopt для xgboost"
   ]
  },
  {
   "cell_type": "markdown",
   "metadata": {},
   "source": [
    "## Решение"
   ]
  },
  {
   "cell_type": "markdown",
   "metadata": {},
   "source": [
    "### Общее начало"
   ]
  },
  {
   "cell_type": "code",
   "execution_count": 54,
   "metadata": {
    "collapsed": false
   },
   "outputs": [],
   "source": [
    "%matplotlib inline\n",
    "\n",
    "import os\n",
    "import copy\n",
    "import random\n",
    "import pickle\n",
    "from importlib import reload\n",
    "\n",
    "import numpy as np\n",
    "import scipy as sp\n",
    "import pandas as pd\n",
    "import pylab\n",
    "\n",
    "from sklearn.grid_search import GridSearchCV\n",
    "from sklearn.ensemble import AdaBoostClassifier\n",
    "from sklearn.metrics import precision_recall_fscore_support\n",
    "from sklearn.cross_validation import StratifiedKFold, cross_val_score\n",
    "\n",
    "import xgboost as xgb\n",
    "\n",
    "import ml_training.common as common\n",
    "import ml_training.vwutils as vwutils\n",
    "import sklensemble.ensemblers.averagers as averagers"
   ]
  },
  {
   "cell_type": "code",
   "execution_count": null,
   "metadata": {
    "collapsed": false
   },
   "outputs": [],
   "source": [
    "reload(common)"
   ]
  },
  {
   "cell_type": "code",
   "execution_count": 62,
   "metadata": {
    "collapsed": false
   },
   "outputs": [
    {
     "data": {
      "text/plain": [
       "<module 'ml_training.vwutils' from '/home/andrey/projects/ml_training/vwutils.py'>"
      ]
     },
     "execution_count": 62,
     "metadata": {},
     "output_type": "execute_result"
    }
   ],
   "source": [
    "reload(vwutils)"
   ]
  },
  {
   "cell_type": "code",
   "execution_count": null,
   "metadata": {
    "collapsed": false
   },
   "outputs": [],
   "source": [
    "reload(averagers)"
   ]
  },
  {
   "cell_type": "code",
   "execution_count": 3,
   "metadata": {
    "collapsed": true
   },
   "outputs": [],
   "source": [
    "def find_constant_columns(df):\n",
    "    return [column for column in df.columns if len(df[column].unique()) < 2]"
   ]
  },
  {
   "cell_type": "code",
   "execution_count": 4,
   "metadata": {
    "collapsed": false
   },
   "outputs": [],
   "source": [
    "def find_equal_columns(df):\n",
    "    equal_columns = []\n",
    "    for col_num, column1 in enumerate(df.columns[: -1]):\n",
    "        for column2 in df.columns[col_num+1:]:\n",
    "            if not (df[column1] - df[column2]).any():\n",
    "                equal_columns.append(column2)\n",
    "    return list(set(equal_columns))"
   ]
  },
  {
   "cell_type": "code",
   "execution_count": 5,
   "metadata": {
    "collapsed": true
   },
   "outputs": [],
   "source": [
    "RANDOM_STATE = 100\n",
    "random.seed(RANDOM_STATE)"
   ]
  },
  {
   "cell_type": "code",
   "execution_count": 6,
   "metadata": {
    "collapsed": false
   },
   "outputs": [],
   "source": [
    "train_df = pd.read_csv(os.path.join(\"input\", \"train.csv\"))"
   ]
  },
  {
   "cell_type": "code",
   "execution_count": 7,
   "metadata": {
    "collapsed": false
   },
   "outputs": [],
   "source": [
    "constant_columns = find_constant_columns(train_df)\n",
    "equal_columns = find_equal_columns(train_df)\n",
    "drop_columns = list(set(constant_columns).union(equal_columns))"
   ]
  },
  {
   "cell_type": "code",
   "execution_count": 8,
   "metadata": {
    "collapsed": false
   },
   "outputs": [],
   "source": [
    "train_df.drop(drop_columns, inplace=True, axis=1)"
   ]
  },
  {
   "cell_type": "code",
   "execution_count": 9,
   "metadata": {
    "collapsed": true
   },
   "outputs": [],
   "source": [
    "train_x = train_df.loc[:, \"var3\": \"var38\"]\n",
    "train_y = train_df[\"TARGET\"]"
   ]
  },
  {
   "cell_type": "code",
   "execution_count": 10,
   "metadata": {
    "collapsed": false
   },
   "outputs": [
    {
     "data": {
      "text/plain": [
       "(257, 255, 224)"
      ]
     },
     "execution_count": 10,
     "metadata": {},
     "output_type": "execute_result"
    }
   ],
   "source": [
    "if_mask = common.get_independent_features_mask(train_x.values, tol=5e-7, is_plot=False) # 5e-7\n",
    "uncorr_mask = common.find_corr_features_mask(train_x.values, trashhold=0.995) # 0.995\n",
    "res_mask = if_mask & uncorr_mask\n",
    "if_mask.sum(), uncorr_mask.sum(), res_mask.sum()"
   ]
  },
  {
   "cell_type": "code",
   "execution_count": 11,
   "metadata": {
    "collapsed": false
   },
   "outputs": [],
   "source": [
    "train_x_if = train_x.loc[:, if_mask]\n",
    "train_x_uc = train_x.loc[:, uncorr_mask]"
   ]
  },
  {
   "cell_type": "code",
   "execution_count": 12,
   "metadata": {
    "collapsed": false
   },
   "outputs": [],
   "source": [
    "cv = StratifiedKFold(train_y, 5, shuffle=True, random_state=RANDOM_STATE)"
   ]
  },
  {
   "cell_type": "markdown",
   "metadata": {},
   "source": [
    "### Создание классификаторов"
   ]
  },
  {
   "cell_type": "code",
   "execution_count": 13,
   "metadata": {
    "collapsed": false
   },
   "outputs": [],
   "source": [
    "xgbc = xgb.XGBClassifier(n_estimators=570, max_depth=5, seed=1234, colsample_bytree=0.7, learning_rate=0.02,\n",
    "                         subsample=0.68)"
   ]
  },
  {
   "cell_type": "code",
   "execution_count": 14,
   "metadata": {
    "collapsed": true
   },
   "outputs": [],
   "source": [
    "xgbc_weighted = xgb.XGBClassifier(n_estimators=570, max_depth=5, seed=1234, colsample_bytree=0.7, learning_rate=0.02,\n",
    "                                  subsample=0.68)"
   ]
  },
  {
   "cell_type": "code",
   "execution_count": 15,
   "metadata": {
    "collapsed": true
   },
   "outputs": [],
   "source": [
    "xgbc_if = xgb.XGBClassifier(n_estimators=570, max_depth=5, seed=1234, colsample_bytree=0.7, learning_rate=0.02,\n",
    "                            subsample=0.68)"
   ]
  },
  {
   "cell_type": "code",
   "execution_count": 16,
   "metadata": {
    "collapsed": true
   },
   "outputs": [],
   "source": [
    "xgbc_uc = xgb.XGBClassifier(n_estimators=570, max_depth=5, seed=1234, colsample_bytree=0.7, learning_rate=0.02,\n",
    "                            subsample=0.68)"
   ]
  },
  {
   "cell_type": "code",
   "execution_count": 17,
   "metadata": {
    "collapsed": false
   },
   "outputs": [],
   "source": [
    "estimators = [copy.deepcopy(xgbc), copy.deepcopy(xgbc_weighted), copy.deepcopy(xgbc_if), copy.deepcopy(xgbc_uc)]\n",
    "is_weighted = [False, True, False, False]\n",
    "x_mask = [None, None, if_mask, uncorr_mask]\n",
    "bc = averagers.BlendingClassifier(estimators, is_weighted, x_mask)"
   ]
  },
  {
   "cell_type": "markdown",
   "metadata": {},
   "source": [
    "### Grid search"
   ]
  },
  {
   "cell_type": "code",
   "execution_count": null,
   "metadata": {
    "collapsed": false
   },
   "outputs": [],
   "source": [
    "params = {\"n_estimators\": [150], \"max_depth\": [3], \"seed\": [RANDOM_STATE]}\n",
    "params = {\"n_estimators\": [570], \"max_depth\": [5], \"seed\": [1234], \"learning_rate\": [0.02], \"subsample\": [0.68],\n",
    "          \"colsample_bytree\": [0.7]}\n",
    "gs = GridSearchCV(xgbc, params, scoring=\"roc_auc\", cv=cv, n_jobs=common.NCPU, refit=False, verbose=10)\n",
    "gs.fit(train_x, train_y)"
   ]
  },
  {
   "cell_type": "markdown",
   "metadata": {},
   "source": [
    "### Веса"
   ]
  },
  {
   "cell_type": "code",
   "execution_count": 18,
   "metadata": {
    "collapsed": true
   },
   "outputs": [],
   "source": [
    "w0 = 1\n",
    "w1 = train_y.value_counts()[0] / train_y.value_counts()[1] * 0.5\n",
    "weights = np.array(list((map(lambda x: w1 if x else w0, train_y))))"
   ]
  },
  {
   "cell_type": "markdown",
   "metadata": {
    "collapsed": true
   },
   "source": [
    "### Обучение классификаторов"
   ]
  },
  {
   "cell_type": "code",
   "execution_count": null,
   "metadata": {
    "collapsed": false
   },
   "outputs": [],
   "source": [
    "xgbc.fit(train_x.values, train_y.values)"
   ]
  },
  {
   "cell_type": "code",
   "execution_count": null,
   "metadata": {
    "collapsed": false
   },
   "outputs": [],
   "source": [
    "xgbc_weighted.fit(train_x.values, train_y.values, weights)"
   ]
  },
  {
   "cell_type": "code",
   "execution_count": null,
   "metadata": {
    "collapsed": false
   },
   "outputs": [],
   "source": [
    "xgbc_if.fit(train_x_if.values, train_y.values)"
   ]
  },
  {
   "cell_type": "code",
   "execution_count": null,
   "metadata": {
    "collapsed": false
   },
   "outputs": [],
   "source": [
    "xgbc_uc.fit(train_x_uc.values, train_y.values)"
   ]
  },
  {
   "cell_type": "code",
   "execution_count": null,
   "metadata": {
    "collapsed": false
   },
   "outputs": [],
   "source": [
    "bc.fit(train_x.values, train_y.values, weights)"
   ]
  },
  {
   "cell_type": "markdown",
   "metadata": {},
   "source": [
    "### Выходная оценка"
   ]
  },
  {
   "cell_type": "code",
   "execution_count": 19,
   "metadata": {
    "collapsed": true
   },
   "outputs": [],
   "source": [
    "test_df = pd.read_csv(os.path.join(\"input\", \"test.csv\"))\n",
    "test_df.drop(drop_columns, inplace=True, axis=1)\n",
    "test_x = test_df.loc[:, \"var3\": \"var38\"]"
   ]
  },
  {
   "cell_type": "code",
   "execution_count": 20,
   "metadata": {
    "collapsed": false
   },
   "outputs": [
    {
     "ename": "NameError",
     "evalue": "name 'xgbc_very_hard' is not defined",
     "output_type": "error",
     "traceback": [
      "\u001b[1;31m---------------------------------------------------------------------------\u001b[0m",
      "\u001b[1;31mNameError\u001b[0m                                 Traceback (most recent call last)",
      "\u001b[1;32m<ipython-input-20-94b5103e9696>\u001b[0m in \u001b[0;36m<module>\u001b[1;34m()\u001b[0m\n\u001b[1;32m----> 1\u001b[1;33m \u001b[0mtest_y\u001b[0m \u001b[1;33m=\u001b[0m \u001b[0mxgbc_very_hard\u001b[0m\u001b[1;33m.\u001b[0m\u001b[0mpredict_proba\u001b[0m\u001b[1;33m(\u001b[0m\u001b[0mtest_x\u001b[0m\u001b[1;33m)\u001b[0m\u001b[1;33m[\u001b[0m\u001b[1;33m:\u001b[0m\u001b[1;33m,\u001b[0m \u001b[1;36m1\u001b[0m\u001b[1;33m]\u001b[0m\u001b[1;33m\u001b[0m\u001b[0m\n\u001b[0m",
      "\u001b[1;31mNameError\u001b[0m: name 'xgbc_very_hard' is not defined"
     ]
    }
   ],
   "source": [
    "test_y = xgbc_very_hard.predict_proba(test_x)[:, 1]"
   ]
  },
  {
   "cell_type": "code",
   "execution_count": null,
   "metadata": {
    "collapsed": true
   },
   "outputs": [],
   "source": [
    "common.save_output(np.array([test_df[\"ID\"].values, test_y]).T, [\"ID\", \"TARGET\"])"
   ]
  },
  {
   "cell_type": "markdown",
   "metadata": {},
   "source": [
    "### Тестирование классификаторов"
   ]
  },
  {
   "cell_type": "code",
   "execution_count": null,
   "metadata": {
    "collapsed": false
   },
   "outputs": [],
   "source": [
    "cross_val_score(copy.deepcopy(xgbc), train_x, train_y, scoring=\"roc_auc\", cv=cv, n_jobs=common.NCPU, verbose=1)"
   ]
  },
  {
   "cell_type": "code",
   "execution_count": null,
   "metadata": {
    "collapsed": false
   },
   "outputs": [],
   "source": [
    "cross_val_score(copy.deepcopy(xgbc), train_x, train_y, scoring=\"roc_auc\", cv=cv, n_jobs=common.NCPU, verbose=1)"
   ]
  },
  {
   "cell_type": "code",
   "execution_count": null,
   "metadata": {
    "collapsed": false
   },
   "outputs": [],
   "source": [
    "common.cross_val_score_with_weights(copy.deepcopy(bc), train_x.values, train_y.values, weights, \"roc_auc\", cv)"
   ]
  },
  {
   "cell_type": "code",
   "execution_count": null,
   "metadata": {
    "collapsed": false
   },
   "outputs": [],
   "source": [
    "np.corrcoef(np.vstack([xgbc.predict_proba(test_x.values)[:, 1], xgbc_weighted.predict_proba(test_x.values)[:, 1],\n",
    "                       xgbc_if.predict_proba(test_x.values)[:, 1], xgbc_uc.predict_proba(test_x.values)[:, 1],\n",
    "                       bc.predict_proba(test_x.values)[:, 1]]))"
   ]
  },
  {
   "cell_type": "code",
   "execution_count": null,
   "metadata": {
    "collapsed": false
   },
   "outputs": [],
   "source": [
    "precision_recall_fscore_support(train_y.values, xgbc.predict(train_x.values))"
   ]
  },
  {
   "cell_type": "code",
   "execution_count": null,
   "metadata": {
    "collapsed": false
   },
   "outputs": [],
   "source": [
    "precision_recall_fscore_support(train_y.values, xgbc_weighted.predict(train_x.values))"
   ]
  },
  {
   "cell_type": "code",
   "execution_count": null,
   "metadata": {
    "collapsed": false
   },
   "outputs": [],
   "source": [
    "precision_recall_fscore_support(train_y.values, xgbc_if.predict(train_x.values))"
   ]
  },
  {
   "cell_type": "code",
   "execution_count": null,
   "metadata": {
    "collapsed": false
   },
   "outputs": [],
   "source": [
    "precision_recall_fscore_support(train_y.values, xgbc_uc.predict(train_x.values))"
   ]
  },
  {
   "cell_type": "code",
   "execution_count": null,
   "metadata": {
    "collapsed": false
   },
   "outputs": [],
   "source": [
    "precision_recall_fscore_support(train_y.values, bc.predict(train_x.values))"
   ]
  },
  {
   "cell_type": "code",
   "execution_count": null,
   "metadata": {
    "collapsed": false
   },
   "outputs": [],
   "source": [
    "pylab.figure(figsize=(16, 6))\n",
    "\n",
    "pylab.grid(True)\n",
    "pylab.scatter(xgbc.predict_proba(train_x.values)[:, 1], bc.predict_proba(train_x.values)[:, 1], alpha=0.5, color = 'red')"
   ]
  },
  {
   "cell_type": "markdown",
   "metadata": {},
   "source": [
    "### VW"
   ]
  },
  {
   "cell_type": "code",
   "execution_count": 61,
   "metadata": {
    "collapsed": false
   },
   "outputs": [
    {
     "name": "stdout",
     "output_type": "stream",
     "text": [
      "{'num_op_var40_ult3': 99, 'num_venta_var44_hace3': 261, 'ind_var13_largo': 33, 'num_trasp_var17_out_ult1': 257, 'num_var39_0': 119, 'num_var4': 69, 'num_op_var40_ult1': 98, 'ind_var17_0': 38, 'num_med_var22_ult3': 222, 'saldo_medio_var13_corto_hace3': 280, 'saldo_medio_var33_hace2': 297, 'num_op_var39_efect_ult1': 245, 'num_var30_0': 108, 'saldo_medio_var13_corto_ult3': 282, 'num_aport_var17_hace3': 209, 'num_meses_var5_ult3': 224, 'ind_var37_0': 60, 'saldo_medio_var44_ult1': 303, 'saldo_var12': 131, 'num_trasp_var17_in_hace3': 255, 'imp_op_var40_comer_ult1': 5, 'ind_var6_0': 23, 'saldo_medio_var5_ult3': 270, 'num_var6_0': 72, 'num_var31': 111, 'saldo_medio_var12_hace2': 275, 'imp_op_var40_efect_ult3': 8, 'num_meses_var13_corto_ult3': 227, 'imp_op_var40_comer_ult3': 6, 'saldo_medio_var17_hace3': 290, 'num_var42_0': 123, 'num_op_var41_efect_ult3': 244, 'num_trasp_var33_out_ult1': 260, 'ind_var24': 45, 'num_var33_0': 113, 'saldo_medio_var29_hace2': 293, 'num_op_var40_comer_ult1': 237, 'num_op_var39_hace2': 104, 'num_var5': 71, 'delta_imp_trasp_var33_out_1y3': 165, 'num_var5_0': 70, 'num_trasp_var17_in_ult1': 256, 'imp_compra_var44_ult1': 183, 'saldo_medio_var13_medio_ult3': 288, 'ind_var31': 53, 'num_var13': 84, 'num_var40_0': 120, 'imp_amort_var34_ult1': 173, 'ind_var19': 41, 'imp_op_var39_efect_ult1': 15, 'imp_reemb_var33_ult1': 187, 'num_var45_hace2': 263, 'ind_var6': 24, 'num_var1': 68, 'imp_sal_var16_ult1': 18, 'ind_var1': 20, 'num_var31_0': 110, 'saldo_medio_var12_ult3': 278, 'saldo_medio_var13_corto_hace2': 279, 'saldo_medio_var13_medio_hace2': 287, 'ind_var10cte_ult1': 201, 'num_var37_med_ult2': 117, 'saldo_medio_var8_hace3': 272, 'num_var14_0': 85, 'num_var13_corto_0': 79, 'saldo_medio_var29_hace3': 294, 'num_meses_var12_ult3': 226, 'imp_op_var41_efect_ult3': 13, 'saldo_medio_var29_ult1': 295, 'ind_var30': 51, 'imp_reemb_var17_hace3': 185, 'num_op_var41_ult1': 102, 'ind_var14': 37, 'num_var17_0': 87, 'num_var26_0': 94, 'imp_amort_var18_ult1': 172, 'num_var6': 73, 'imp_trasp_var17_in_ult1': 191, 'num_op_var41_ult3': 103, 'ind_var31_0': 52, 'imp_trasp_var17_out_ult1': 192, 'num_var13_0': 78, 'saldo_medio_var8_ult3': 274, 'ind_var12': 28, 'num_aport_var13_ult1': 208, 'num_var1_0': 67, 'saldo_var30': 143, 'imp_compra_var44_hace3': 182, 'saldo_medio_var5_ult1': 269, 'imp_op_var41_ult1': 14, 'delta_num_venta_var44_1y3': 171, 'delta_imp_trasp_var17_in_1y3': 162, 'saldo_medio_var13_corto_ult1': 281, 'saldo_var13_medio': 134, 'saldo_medio_var33_ult1': 299, 'ind_var9_ult1': 203, 'num_var20': 91, 'num_var24': 93, 'imp_venta_var44_ult1': 197, 'ind_var25_cte': 46, 'imp_var7_recib_ult1': 181, 'num_var40': 121, 'imp_aport_var17_ult1': 177, 'saldo_var17': 137, 'ind_var34_0': 58, 'saldo_var37': 148, 'delta_imp_aport_var13_1y3': 155, 'num_var33': 114, 'saldo_var31': 144, 'ind_var5_0': 21, 'saldo_var13': 135, 'num_var24_0': 92, 'num_op_var39_hace3': 105, 'num_trasp_var33_in_hace3': 258, 'saldo_var13_largo': 133, 'imp_aport_var33_ult1': 179, 'num_var45_ult1': 265, 'num_compra_var44_ult1': 216, 'ind_var5': 22, 'num_op_var39_comer_ult1': 235, 'num_var20_0': 90, 'saldo_var42': 150, 'num_venta_var44_ult1': 262, 'saldo_var34': 147, 'num_meses_var17_ult3': 230, 'saldo_medio_var5_hace3': 268, 'imp_trasp_var33_in_hace3': 193, 'imp_venta_var44_hace3': 196, 'imp_op_var39_ult1': 17, 'delta_imp_reemb_var33_1y3': 161, 'saldo_var18': 138, 'imp_trasp_var17_in_hace3': 190, 'num_var8_0': 74, 'num_op_var41_comer_ult3': 242, 'ind_var7_emit_ult1': 198, 'num_meses_var8_ult3': 225, 'ind_var37_cte': 59, 'imp_trasp_var33_out_ult1': 195, 'delta_num_aport_var17_1y3': 168, 'num_var44_0': 125, 'imp_op_var40_efect_ult1': 7, 'num_var18_0': 89, 'num_var30': 109, 'ind_var32_cte': 54, 'num_var35': 116, 'num_op_var41_hace3': 101, 'saldo_var8': 130, 'num_aport_var17_ult1': 210, 'num_med_var45_ult3': 223, 'num_reemb_var17_hace3': 248, 'ind_var13_0': 29, 'saldo_medio_var17_ult3': 292, 'ind_var24_0': 44, 'imp_op_var40_ult1': 9, 'imp_aport_var13_ult1': 175, 'num_op_var40_hace2': 96, 'ind_var43_recib_ult1': 205, 'num_var7_emit_ult1': 213, 'imp_aport_var33_hace3': 178, 'delta_imp_trasp_var17_out_1y3': 163, 'ind_var8': 26, 'saldo_var5': 128, 'num_op_var40_hace3': 97, 'num_var44': 126, 'saldo_medio_var8_ult1': 273, 'num_var8': 75, 'ind_var40_0': 62, 'ind_var13_medio_0': 34, 'ind_var32_0': 55, 'num_var13_largo': 82, 'saldo_medio_var8_hace2': 271, 'ind_var44_0': 65, 'num_op_var41_comer_ult1': 241, 'imp_var7_emit_ult1': 180, 'imp_op_var39_comer_ult3': 4, 'saldo_medio_var44_hace3': 302, 'imp_reemb_var17_ult1': 186, 'imp_trasp_var33_in_ult1': 194, 'ind_var33_0': 56, 'ind_var41_0': 64, 'num_var22_hace3': 219, 'num_op_var39_efect_ult3': 246, 'var3': 0, 'saldo_medio_var17_hace2': 289, 'imp_ent_var16_ult1': 2, 'num_op_var41_efect_ult1': 243, 'ind_var44': 66, 'saldo_var33': 146, 'num_trasp_var11_ult1': 254, 'num_var22_hace2': 218, 'num_meses_var44_ult3': 234, 'saldo_var32': 145, 'num_op_var41_hace2': 100, 'saldo_medio_var5_hace2': 267, 'saldo_medio_var13_largo_hace2': 283, 'num_var12': 77, 'num_var45_hace3': 264, 'ind_var12_0': 27, 'num_op_var40_efect_ult1': 239, 'num_compra_var44_hace3': 215, 'delta_num_compra_var44_1y3': 170, 'num_aport_var33_hace3': 211, 'saldo_medio_var44_ult3': 304, 'imp_op_var39_efect_ult3': 16, 'num_op_var39_ult3': 107, 'num_meses_var13_medio_ult3': 229, 'saldo_var13_corto': 132, 'num_var17': 88, 'saldo_var25': 142, 'saldo_medio_var33_hace3': 298, 'ind_var25_0': 49, 'ind_var40': 63, 'ind_var13_corto': 31, 'num_op_var40_comer_ult3': 238, 'num_var25_0': 95, 'imp_trans_var37_ult1': 189, 'num_var13_corto': 80, 'num_meses_var29_ult3': 231, 'saldo_medio_var12_ult1': 277, 'saldo_medio_var29_ult3': 296, 'var38': 305, 'ind_var26_cte': 48, 'delta_imp_compra_var44_1y3': 158, 'num_aport_var13_hace3': 207, 'ind_var14_0': 36, 'num_var22_ult1': 220, 'num_reemb_var13_ult1': 247, 'saldo_medio_var13_largo_ult1': 285, 'imp_op_var39_comer_ult1': 3, 'delta_imp_reemb_var17_1y3': 160, 'num_meses_var39_vig_ult3': 233, 'num_var43_recib_ult1': 253, 'ind_var17': 39, 'ind_var13': 35, 'imp_op_var41_efect_ult1': 12, 'imp_op_var41_comer_ult1': 10, 'num_var34_0': 115, 'ind_var39_0': 61, 'ind_var13_largo_0': 32, 'saldo_var26': 141, 'num_var7_recib_ult1': 214, 'ind_var8_0': 25, 'saldo_medio_var17_ult1': 291, 'saldo_var1': 127, 'delta_num_aport_var13_1y3': 167, 'ind_var13_corto_0': 30, 'num_var41_0': 122, 'num_reemb_var17_ult1': 249, 'imp_reemb_var13_ult1': 184, 'ind_var10_ult1': 200, 'ind_var20_0': 42, 'num_var42': 124, 'delta_imp_aport_var33_1y3': 157, 'ind_var18_0': 40, 'ind_var9_cte_ult1': 202, 'saldo_medio_var13_largo_ult3': 286, 'ind_var26_0': 47, 'num_aport_var33_ult1': 212, 'num_op_var40_efect_ult3': 240, 'var21': 206, 'saldo_var14': 136, 'ind_var7_recib_ult1': 199, 'delta_num_aport_var33_1y3': 169, 'imp_aport_var13_hace3': 174, 'saldo_var20': 139, 'num_trasp_var33_in_ult1': 259, 'num_op_var39_comer_ult3': 236, 'saldo_medio_var12_hace3': 276, 'num_var22_ult3': 221, 'num_var13_medio_0': 83, 'num_op_var39_ult1': 106, 'ind_var33': 57, 'delta_imp_aport_var17_1y3': 156, 'num_var14': 86, 'ind_var1_0': 19, 'saldo_medio_var13_largo_hace3': 284, 'delta_imp_amort_var18_1y3': 153, 'num_sal_var16_ult1': 251, 'delta_imp_amort_var34_1y3': 154, 'saldo_var40': 149, 'num_var13_largo_0': 81, 'num_var43_emit_ult1': 252, 'imp_aport_var17_hace3': 176, 'num_reemb_var33_ult1': 250, 'saldo_var6': 129, 'delta_imp_venta_var44_1y3': 166, 'num_ent_var16_ult1': 217, 'saldo_var24': 140, 'num_meses_var13_largo_ult3': 228, 'imp_op_var41_comer_ult3': 11, 'var15': 1, 'imp_var43_emit_ult1': 188, 'ind_var20': 43, 'ind_var30_0': 50, 'num_var37_0': 118, 'var36': 152, 'num_meses_var33_ult3': 232, 'ind_var43_emit_ult1': 204, 'num_var12_0': 76, 'saldo_var44': 151, 'saldo_medio_var33_ult3': 300, 'num_var32_0': 112, 'num_var45_ult3': 266, 'delta_imp_trasp_var33_in_1y3': 164, 'saldo_medio_var44_hace2': 301, 'delta_imp_reemb_var13_1y3': 159}\n"
     ]
    }
   ],
   "source": [
    "input_train_file = os.path.join(\"temp\", \"scs.input_train\")\n",
    "vwutils.make_vw_input(train_x, input_train_file, y=train_y)"
   ]
  },
  {
   "cell_type": "code",
   "execution_count": 63,
   "metadata": {
    "collapsed": false
   },
   "outputs": [],
   "source": [
    "input_test_file = os.path.join(\"temp\", \"scs.input_test\")\n",
    "vwutils.make_vw_input(test_x, input_test_file)"
   ]
  },
  {
   "cell_type": "markdown",
   "metadata": {},
   "source": [
    "### Тестирование кода"
   ]
  },
  {
   "cell_type": "code",
   "execution_count": null,
   "metadata": {
    "collapsed": false
   },
   "outputs": [],
   "source": [
    "x = train_x.iloc[: 1000].values\n",
    "y = train_y.iloc[: 1000].values\n",
    "w = weights[: 1000]\n",
    "x_t = test_x.iloc[: 1000].values"
   ]
  },
  {
   "cell_type": "code",
   "execution_count": 43,
   "metadata": {
    "collapsed": false
   },
   "outputs": [],
   "source": [
    "pred_df = pd.read_csv(os.path.join(\"temp\", \"scs.pred\"), header=None)"
   ]
  },
  {
   "cell_type": "code",
   "execution_count": 51,
   "metadata": {
    "collapsed": false
   },
   "outputs": [
    {
     "data": {
      "text/plain": [
       "-1    75818\n",
       "dtype: int64"
      ]
     },
     "execution_count": 51,
     "metadata": {},
     "output_type": "execute_result"
    }
   ],
   "source": [
    "pred_df[0].value_counts()"
   ]
  },
  {
   "cell_type": "code",
   "execution_count": null,
   "metadata": {
    "collapsed": true
   },
   "outputs": [],
   "source": []
  }
 ],
 "metadata": {
  "kernelspec": {
   "display_name": "Python 3",
   "language": "python",
   "name": "python3"
  },
  "language_info": {
   "codemirror_mode": {
    "name": "ipython",
    "version": 3
   },
   "file_extension": ".py",
   "mimetype": "text/x-python",
   "name": "python",
   "nbconvert_exporter": "python",
   "pygments_lexer": "ipython3",
   "version": "3.4.3+"
  }
 },
 "nbformat": 4,
 "nbformat_minor": 0
}
