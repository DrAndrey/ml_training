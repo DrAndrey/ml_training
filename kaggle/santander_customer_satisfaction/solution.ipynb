{
 "cells": [
  {
   "cell_type": "markdown",
   "metadata": {},
   "source": [
    "# Santander Customer Satisfaction"
   ]
  },
  {
   "cell_type": "markdown",
   "metadata": {},
   "source": [
    "## Планы"
   ]
  },
  {
   "cell_type": "markdown",
   "metadata": {},
   "source": [
    "* Оценить полезность фич.\n",
    "* Добавить небольшой БГК (размер потестировать)\n",
    "* Попробовать блендинг 10 xgbc с разными seed\n",
    "* Можно попробовать подобрать лучший seed по lb.\n",
    "* Просмотреть форум в конце"
   ]
  },
  {
   "cell_type": "markdown",
   "metadata": {},
   "source": [
    "## Решение"
   ]
  },
  {
   "cell_type": "markdown",
   "metadata": {},
   "source": [
    "### Общее начало"
   ]
  },
  {
   "cell_type": "code",
   "execution_count": 1,
   "metadata": {
    "collapsed": false
   },
   "outputs": [],
   "source": [
    "%matplotlib inline\n",
    "\n",
    "import os\n",
    "import copy\n",
    "import random\n",
    "import pickle\n",
    "from importlib import reload\n",
    "\n",
    "import numpy as np\n",
    "import scipy as sp\n",
    "import pandas as pd\n",
    "import pylab\n",
    "import hyperopt\n",
    "\n",
    "from sklearn.grid_search import GridSearchCV\n",
    "from sklearn.ensemble import AdaBoostClassifier\n",
    "from sklearn.metrics import precision_recall_fscore_support\n",
    "from sklearn.cross_validation import StratifiedKFold, cross_val_score\n",
    "\n",
    "import xgboost as xgb\n",
    "\n",
    "import ml_training.common as common\n",
    "import ml_training.vwutils as vwutils\n",
    "import sklensemble.ensemblers.averagers as averagers"
   ]
  },
  {
   "cell_type": "code",
   "execution_count": null,
   "metadata": {
    "collapsed": false
   },
   "outputs": [],
   "source": [
    "reload(common)"
   ]
  },
  {
   "cell_type": "code",
   "execution_count": null,
   "metadata": {
    "collapsed": false
   },
   "outputs": [],
   "source": [
    "reload(vwutils)"
   ]
  },
  {
   "cell_type": "code",
   "execution_count": null,
   "metadata": {
    "collapsed": false
   },
   "outputs": [],
   "source": [
    "reload(averagers)"
   ]
  },
  {
   "cell_type": "code",
   "execution_count": 2,
   "metadata": {
    "collapsed": true
   },
   "outputs": [],
   "source": [
    "def find_constant_columns(df):\n",
    "    return [column for column in df.columns if len(df[column].unique()) < 2]"
   ]
  },
  {
   "cell_type": "code",
   "execution_count": 3,
   "metadata": {
    "collapsed": false
   },
   "outputs": [],
   "source": [
    "def find_equal_columns(df):\n",
    "    equal_columns = []\n",
    "    for col_num, column1 in enumerate(df.columns[: -1]):\n",
    "        for column2 in df.columns[col_num+1:]:\n",
    "            if not (df[column1] - df[column2]).any():\n",
    "                equal_columns.append(column2)\n",
    "    return list(set(equal_columns))"
   ]
  },
  {
   "cell_type": "code",
   "execution_count": 4,
   "metadata": {
    "collapsed": true
   },
   "outputs": [],
   "source": [
    "RANDOM_STATE = 1\n",
    "random.seed(RANDOM_STATE)"
   ]
  },
  {
   "cell_type": "code",
   "execution_count": 5,
   "metadata": {
    "collapsed": false
   },
   "outputs": [],
   "source": [
    "train_df = pd.read_csv(os.path.join(\"input\", \"train.csv\"))\n",
    "train_y = train_df[\"TARGET\"]\n",
    "train_df.drop([\"ID\", \"TARGET\"], inplace=True, axis=1)\n",
    "train_df[\"n0\"] = train_df.apply(lambda x: sum(x == 0), axis=1)"
   ]
  },
  {
   "cell_type": "code",
   "execution_count": 6,
   "metadata": {
    "collapsed": false
   },
   "outputs": [],
   "source": [
    "constant_columns = find_constant_columns(train_df)\n",
    "equal_columns = find_equal_columns(train_df)\n",
    "drop_columns = list(set(constant_columns).union(equal_columns))"
   ]
  },
  {
   "cell_type": "code",
   "execution_count": 7,
   "metadata": {
    "collapsed": false
   },
   "outputs": [],
   "source": [
    "train_df.insert(0, \"intercept\", 1)\n",
    "train_x = train_df.drop(drop_columns, axis=1)"
   ]
  },
  {
   "cell_type": "code",
   "execution_count": null,
   "metadata": {
    "collapsed": false
   },
   "outputs": [],
   "source": [
    "#if_mask = common.get_independent_features_mask(train_x.values, tol=5e-7, is_plot=False) # 5e-7\n",
    "#uncorr_mask = common.find_corr_features_mask(train_x.values, trashhold=0.995) # 0.995\n",
    "#res_mask = if_mask & uncorr_mask\n",
    "#if_mask.sum(), uncorr_mask.sum(), res_mask.sum()"
   ]
  },
  {
   "cell_type": "code",
   "execution_count": null,
   "metadata": {
    "collapsed": false
   },
   "outputs": [],
   "source": [
    "#train_x_if = train_x.loc[:, if_mask]\n",
    "#train_x_uc = train_x.loc[:, uncorr_mask]"
   ]
  },
  {
   "cell_type": "code",
   "execution_count": null,
   "metadata": {
    "collapsed": false
   },
   "outputs": [],
   "source": [
    "cv = StratifiedKFold(train_y, 5, shuffle=True, random_state=RANDOM_STATE)"
   ]
  },
  {
   "cell_type": "markdown",
   "metadata": {},
   "source": [
    "### Создание классификаторов"
   ]
  },
  {
   "cell_type": "code",
   "execution_count": null,
   "metadata": {
    "collapsed": false
   },
   "outputs": [],
   "source": [
    "xgbc = xgb.XGBClassifier(n_estimators=560, max_depth=5, seed=1234, colsample_bytree=0.7, learning_rate=0.02,\n",
    "                         subsample=0.68)\n",
    "xgbc2 = xgb.XGBClassifier(n_estimators=560, max_depth=5, seed=1, colsample_bytree=0.7, learning_rate=0.02,\n",
    "                         subsample=0.68)\n",
    "xgbc3 = xgb.XGBClassifier(n_estimators=560, max_depth=5, seed=2, colsample_bytree=0.7, learning_rate=0.02,\n",
    "                         subsample=0.68)\n",
    "hyperopt_params = {'min_child_weight': 4.829459240879128, 'gamma': 0.0, 'reg_alpha': 1.7252032215472213, 'max_depth': 6,\n",
    "                   'subsample': 0.8727431980042409, 'learning_rate': 0.012397370469636557, 'reg_lambda': 0.38434128103560095,\n",
    "                   'n_estimators': 690, 'colsample_bytree': 0.5840573681076153}\n",
    "xgbc_h =  xgb.XGBClassifier(**hyperopt_params)"
   ]
  },
  {
   "cell_type": "code",
   "execution_count": 9,
   "metadata": {
    "collapsed": false
   },
   "outputs": [],
   "source": [
    "xgbc_r = xgb.XGBClassifier(n_estimators=560, max_depth=5, seed=1234, colsample_bytree=0.701, learning_rate=0.0202048,\n",
    "                            subsample=0.6815)"
   ]
  },
  {
   "cell_type": "code",
   "execution_count": null,
   "metadata": {
    "collapsed": false
   },
   "outputs": [],
   "source": [
    "estimators = [copy.deepcopy(xgbc), copy.deepcopy(xgbc2), copy.deepcopy(xgbc3)]\n",
    "is_weighted = [False, False, False]\n",
    "x_mask = [None, None, None]\n",
    "bc = averagers.BlendingClassifier(estimators, is_weighted, x_mask)"
   ]
  },
  {
   "cell_type": "markdown",
   "metadata": {},
   "source": [
    "### Grid search"
   ]
  },
  {
   "cell_type": "code",
   "execution_count": null,
   "metadata": {
    "collapsed": false
   },
   "outputs": [],
   "source": [
    "params = {\"n_estimators\": [570], \"max_depth\": [5], \"seed\": [1234], \"learning_rate\": [0.02], \"subsample\": [0.68],\n",
    "          \"colsample_bytree\": [0.7]}\n",
    "gs = GridSearchCV(xgbc, params, scoring=\"roc_auc\", cv=cv, n_jobs=common.NCPU, refit=False, verbose=10)\n",
    "gs.fit(train_x, train_y)"
   ]
  },
  {
   "cell_type": "markdown",
   "metadata": {},
   "source": [
    "### Веса"
   ]
  },
  {
   "cell_type": "code",
   "execution_count": null,
   "metadata": {
    "collapsed": true
   },
   "outputs": [],
   "source": [
    "w0 = 1\n",
    "w1 = train_y.value_counts()[0] / train_y.value_counts()[1] * 0.5\n",
    "weights = np.array(list((map(lambda x: w1 if x else w0, train_y))))"
   ]
  },
  {
   "cell_type": "markdown",
   "metadata": {
    "collapsed": true
   },
   "source": [
    "### Обучение классификаторов"
   ]
  },
  {
   "cell_type": "code",
   "execution_count": null,
   "metadata": {
    "collapsed": false
   },
   "outputs": [],
   "source": [
    "xgbc.fit(train_x.values, train_y.values)"
   ]
  },
  {
   "cell_type": "code",
   "execution_count": null,
   "metadata": {
    "collapsed": false
   },
   "outputs": [],
   "source": [
    "bc.fit(train_x.values, train_y.values, weights)"
   ]
  },
  {
   "cell_type": "code",
   "execution_count": 11,
   "metadata": {
    "collapsed": false
   },
   "outputs": [
    {
     "data": {
      "text/plain": [
       "XGBClassifier(base_score=0.5, colsample_bylevel=1, colsample_bytree=0.701,\n",
       "       gamma=0, learning_rate=0.0202048, max_delta_step=0, max_depth=5,\n",
       "       min_child_weight=1, missing=None, n_estimators=560, nthread=-1,\n",
       "       objective='binary:logistic', reg_alpha=0, reg_lambda=1,\n",
       "       scale_pos_weight=1, seed=1234, silent=True, subsample=0.6815)"
      ]
     },
     "execution_count": 11,
     "metadata": {},
     "output_type": "execute_result"
    }
   ],
   "source": [
    "xgbc_r.fit(train_x.values, train_y.values, eval_metric=\"auc\")"
   ]
  },
  {
   "cell_type": "markdown",
   "metadata": {},
   "source": [
    "### Выходная оценка"
   ]
  },
  {
   "cell_type": "code",
   "execution_count": 12,
   "metadata": {
    "collapsed": false
   },
   "outputs": [],
   "source": [
    "test_df = pd.read_csv(os.path.join(\"input\", \"test.csv\"))\n",
    "test_id = test_df[\"ID\"].values\n",
    "test_df.drop([\"ID\"], inplace=True, axis=1)\n",
    "\n",
    "test_df[\"n0\"] = test_df.apply(lambda x: sum(x == 0), axis=1)\n",
    "test_df.insert(0, \"intercept\", 1)\n",
    "test_x = test_df.drop(drop_columns, axis=1)\n",
    "\n",
    "for col in test_x.columns:\n",
    "    mn = train_df[col].min()\n",
    "    mx = train_df[col].max()\n",
    "    \n",
    "    test_x.loc[test_x[col] < mn, col] = mn\n",
    "    test_x.loc[test_x[col] > mx, col] = mx"
   ]
  },
  {
   "cell_type": "code",
   "execution_count": 13,
   "metadata": {
    "collapsed": false
   },
   "outputs": [],
   "source": [
    "test_y = xgbc_r.predict_proba(test_x.values)[:, 1]"
   ]
  },
  {
   "cell_type": "code",
   "execution_count": 14,
   "metadata": {
    "collapsed": false
   },
   "outputs": [
    {
     "data": {
      "text/plain": [
       "array([ 0.04610872,  0.05319918,  0.00164673,  0.00973685,  0.00163208,\n",
       "        0.23983237,  0.02952436,  0.16404244,  0.0331476 ,  0.0205161 ], dtype=float32)"
      ]
     },
     "execution_count": 14,
     "metadata": {},
     "output_type": "execute_result"
    }
   ],
   "source": [
    "test_y[: 10]"
   ]
  },
  {
   "cell_type": "code",
   "execution_count": null,
   "metadata": {
    "collapsed": false
   },
   "outputs": [],
   "source": [
    "common.save_output(np.array([test_id, test_y]).T, [\"ID\", \"TARGET\"])"
   ]
  },
  {
   "cell_type": "markdown",
   "metadata": {},
   "source": [
    "### Тестирование классификаторов"
   ]
  },
  {
   "cell_type": "code",
   "execution_count": null,
   "metadata": {
    "collapsed": false
   },
   "outputs": [],
   "source": [
    "cross_val_score(copy.deepcopy(xgbc), train_x, train_y, scoring=\"roc_auc\", cv=cv, n_jobs=common.NCPU, verbose=1)"
   ]
  },
  {
   "cell_type": "code",
   "execution_count": null,
   "metadata": {
    "collapsed": false
   },
   "outputs": [],
   "source": [
    "cross_val_score(copy.deepcopy(xgbc), train_x, train_y, scoring=\"roc_auc\", cv=cv, n_jobs=common.NCPU, verbose=1)"
   ]
  },
  {
   "cell_type": "code",
   "execution_count": null,
   "metadata": {
    "collapsed": false
   },
   "outputs": [],
   "source": [
    "common.cross_val_score_with_weights(copy.deepcopy(bc), train_x.values, train_y.values, weights, \"roc_auc\", cv)"
   ]
  },
  {
   "cell_type": "code",
   "execution_count": null,
   "metadata": {
    "collapsed": false
   },
   "outputs": [],
   "source": [
    "np.corrcoef(np.vstack([xgbc.predict_proba(test_x.values)[:, 1], xgbc_weighted.predict_proba(test_x.values)[:, 1],\n",
    "                       xgbc_if.predict_proba(test_x.values)[:, 1], xgbc_uc.predict_proba(test_x.values)[:, 1],\n",
    "                       bc.predict_proba(test_x.values)[:, 1]]))"
   ]
  },
  {
   "cell_type": "code",
   "execution_count": null,
   "metadata": {
    "collapsed": false
   },
   "outputs": [],
   "source": [
    "precision_recall_fscore_support(train_y.values, xgbc.predict(train_x.values))"
   ]
  },
  {
   "cell_type": "code",
   "execution_count": null,
   "metadata": {
    "collapsed": false
   },
   "outputs": [],
   "source": [
    "precision_recall_fscore_support(train_y.values, xgbc_weighted.predict(train_x.values))"
   ]
  },
  {
   "cell_type": "code",
   "execution_count": null,
   "metadata": {
    "collapsed": false
   },
   "outputs": [],
   "source": [
    "precision_recall_fscore_support(train_y.values, xgbc_if.predict(train_x.values))"
   ]
  },
  {
   "cell_type": "code",
   "execution_count": null,
   "metadata": {
    "collapsed": false
   },
   "outputs": [],
   "source": [
    "precision_recall_fscore_support(train_y.values, xgbc_uc.predict(train_x.values))"
   ]
  },
  {
   "cell_type": "code",
   "execution_count": null,
   "metadata": {
    "collapsed": false
   },
   "outputs": [],
   "source": [
    "precision_recall_fscore_support(train_y.values, bc.predict(train_x.values))"
   ]
  },
  {
   "cell_type": "code",
   "execution_count": null,
   "metadata": {
    "collapsed": false
   },
   "outputs": [],
   "source": [
    "pylab.figure(figsize=(16, 6))\n",
    "\n",
    "pylab.grid(True)\n",
    "pylab.scatter(xgbc.predict_proba(train_x.values)[:, 1], bc.predict_proba(train_x.values)[:, 1], alpha=0.5, color = 'red')"
   ]
  },
  {
   "cell_type": "markdown",
   "metadata": {},
   "source": [
    "## Hyperopt"
   ]
  },
  {
   "cell_type": "code",
   "execution_count": null,
   "metadata": {
    "collapsed": true
   },
   "outputs": [],
   "source": [
    "def hyperopt_train_test(params):\n",
    "    clf = xgb.XGBClassifier(**params)\n",
    "    return cross_val_score(clf, train_x, train_y, scoring=\"roc_auc\", cv=cv, n_jobs=common.NCPU, verbose=1).mean()"
   ]
  },
  {
   "cell_type": "code",
   "execution_count": null,
   "metadata": {
    "collapsed": true
   },
   "outputs": [],
   "source": [
    "space = {\n",
    "    \"n_estimators\": hyperopt.hp.choice(\"n_estimators\", range(400, 800)),\n",
    "    \"max_depth\": hyperopt.hp.choice(\"max_depth\", range(3, 9)),\n",
    "    \"colsample_bytree\": hyperopt.hp.uniform(\"colsample_bytree\", 0.5, 0.95),\n",
    "    \"learning_rate\": hyperopt.hp.uniform(\"learning_rate\", 0.005, 0.03),\n",
    "    \"subsample\": hyperopt.hp.uniform(\"subsample\", 0.5, 0.95),\n",
    "    \"min_child_weight\": hyperopt.hp.uniform(\"min_child_weight\", 1.0, 5.0),\n",
    "    \"gamma\": hyperopt.hp.choice(\"gamma\", [0.0, 0.05, 0.1]),\n",
    "    \"reg_lambda\": hyperopt.hp.uniform(\"reg_lambda\", 0.0, 1.0),\n",
    "    \"reg_alpha\": hyperopt.hp.uniform(\"reg_alpha\", 0.0, 3.0),\n",
    "}"
   ]
  },
  {
   "cell_type": "code",
   "execution_count": null,
   "metadata": {
    "collapsed": true
   },
   "outputs": [],
   "source": [
    "count = 0\n",
    "best = 0\n",
    "best_params = {}\n",
    "def f(params):\n",
    "    global best, count, best_params\n",
    "    acc = hyperopt_train_test(params)\n",
    "    if acc > best:\n",
    "        best = acc\n",
    "        best_params = params\n",
    "        print(\"new best - {0}, using - {1}\".format(acc, params))\n",
    "    \n",
    "    print(\"iters - {0}, best_acc - {1}\".format(count, best))\n",
    "    count += 1        \n",
    "    return {\"loss\": -acc, \"status\": hyperopt.STATUS_OK}"
   ]
  },
  {
   "cell_type": "code",
   "execution_count": null,
   "metadata": {
    "collapsed": false
   },
   "outputs": [],
   "source": [
    "trials = hyperopt.Trials()\n",
    "best = hyperopt.fmin(f, space, algo=hyperopt.tpe.suggest, max_evals=300, trials=trials)"
   ]
  },
  {
   "cell_type": "markdown",
   "metadata": {},
   "source": [
    "### VW"
   ]
  },
  {
   "cell_type": "code",
   "execution_count": null,
   "metadata": {
    "collapsed": false
   },
   "outputs": [],
   "source": [
    "input_train_file = os.path.join(\"temp\", \"scs.input_train\")\n",
    "vwutils.make_vw_input(train_x, input_train_file, y=train_y)"
   ]
  },
  {
   "cell_type": "code",
   "execution_count": null,
   "metadata": {
    "collapsed": false
   },
   "outputs": [],
   "source": [
    "input_test_file = os.path.join(\"temp\", \"scs.input_test\")\n",
    "vwutils.make_vw_input(test_x, input_test_file)"
   ]
  },
  {
   "cell_type": "markdown",
   "metadata": {},
   "source": [
    "### Тестирование кода"
   ]
  },
  {
   "cell_type": "code",
   "execution_count": null,
   "metadata": {
    "collapsed": false
   },
   "outputs": [],
   "source": [
    "x = train_x.iloc[: 1000].values\n",
    "y = train_y.iloc[: 1000].values\n",
    "w = weights[: 1000]\n",
    "x_t = test_x.iloc[: 1000].values"
   ]
  }
 ],
 "metadata": {
  "kernelspec": {
   "display_name": "Python 3",
   "language": "python",
   "name": "python3"
  },
  "language_info": {
   "codemirror_mode": {
    "name": "ipython",
    "version": 3
   },
   "file_extension": ".py",
   "mimetype": "text/x-python",
   "name": "python",
   "nbconvert_exporter": "python",
   "pygments_lexer": "ipython3",
   "version": "3.5.1"
  }
 },
 "nbformat": 4,
 "nbformat_minor": 0
}
