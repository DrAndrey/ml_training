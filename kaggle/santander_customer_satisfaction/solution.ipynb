{
 "cells": [
  {
   "cell_type": "markdown",
   "metadata": {},
   "source": [
    "# Santander Customer Satisfaction"
   ]
  },
  {
   "cell_type": "markdown",
   "metadata": {},
   "source": [
    "## Планы"
   ]
  },
  {
   "cell_type": "markdown",
   "metadata": {},
   "source": [
    "* Просмотреть все важные переменные, построить графики, сравнить как себя ведут при разных значениях выходной переменной\n",
    "* https://www.kaggle.com/c/santander-customer-satisfaction/forums/t/20275/data-preprocessing-xgb-python\n",
    "* Изучить закладку в Разное"
   ]
  },
  {
   "cell_type": "markdown",
   "metadata": {},
   "source": [
    "## Решение"
   ]
  },
  {
   "cell_type": "markdown",
   "metadata": {},
   "source": [
    "### Общее начало"
   ]
  },
  {
   "cell_type": "code",
   "execution_count": 1,
   "metadata": {
    "collapsed": false
   },
   "outputs": [],
   "source": [
    "%matplotlib inline\n",
    "\n",
    "import os\n",
    "import copy\n",
    "import random\n",
    "import pickle\n",
    "from importlib import reload\n",
    "\n",
    "import numpy as np\n",
    "import scipy as sp\n",
    "import pandas as pd\n",
    "import pylab\n",
    "import hyperopt\n",
    "\n",
    "from sklearn.grid_search import GridSearchCV\n",
    "from sklearn.metrics import precision_recall_fscore_support\n",
    "from sklearn.cross_validation import StratifiedKFold, cross_val_score\n",
    "from sklearn.decomposition import PCA\n",
    "from sklearn.preprocessing import RobustScaler\n",
    "from sklearn.metrics import get_scorer\n",
    "\n",
    "import xgboost as xgb\n",
    "\n",
    "import ml_training.common as common\n",
    "import ml_training.vwutils as vwutils\n",
    "import sklensemble.ensemblers.averagers as averagers"
   ]
  },
  {
   "cell_type": "code",
   "execution_count": 16,
   "metadata": {
    "collapsed": false
   },
   "outputs": [
    {
     "data": {
      "text/plain": [
       "<module 'ml_training.common' from 'E:\\\\Documents\\\\Projects\\\\ml_training\\\\common.py'>"
      ]
     },
     "execution_count": 16,
     "metadata": {},
     "output_type": "execute_result"
    }
   ],
   "source": [
    "reload(common)"
   ]
  },
  {
   "cell_type": "code",
   "execution_count": null,
   "metadata": {
    "collapsed": false
   },
   "outputs": [],
   "source": [
    "reload(vwutils)"
   ]
  },
  {
   "cell_type": "code",
   "execution_count": null,
   "metadata": {
    "collapsed": false
   },
   "outputs": [],
   "source": [
    "reload(averagers)"
   ]
  },
  {
   "cell_type": "code",
   "execution_count": 2,
   "metadata": {
    "collapsed": true
   },
   "outputs": [],
   "source": [
    "def find_constant_columns(df):\n",
    "    return [column for column in df.columns if len(df[column].unique()) < 2]"
   ]
  },
  {
   "cell_type": "code",
   "execution_count": 3,
   "metadata": {
    "collapsed": false
   },
   "outputs": [],
   "source": [
    "def find_equal_columns(df):\n",
    "    equal_columns = []\n",
    "    for col_num, column1 in enumerate(df.columns[: -1]):\n",
    "        for column2 in df.columns[col_num+1:]:\n",
    "            if not (df[column1] - df[column2]).any():\n",
    "                equal_columns.append(column2)\n",
    "    return list(set(equal_columns))"
   ]
  },
  {
   "cell_type": "code",
   "execution_count": 4,
   "metadata": {
    "collapsed": false
   },
   "outputs": [],
   "source": [
    "def make_feature_engineering(df):\n",
    "    df.loc[df[\"var3\"] == df[\"var3\"].min(), \"var3\"] = df[\"var3\"].mode()\n",
    "    \n",
    "    df[\"var38mc\"] = np.isclose(df[\"var38\"], df[\"var38\"].mode())\n",
    "    df[\"logvar38\"] = df.loc[~df[\"var38mc\"], \"var38\"].map(np.log)\n",
    "    df[\"logvar38\"].fillna(0, inplace=True)\n",
    "    df.drop([\"var38\"], axis=1, inplace=True)"
   ]
  },
  {
   "cell_type": "code",
   "execution_count": 5,
   "metadata": {
    "collapsed": true
   },
   "outputs": [],
   "source": [
    "RANDOM_STATE = 777\n",
    "random.seed(RANDOM_STATE)"
   ]
  },
  {
   "cell_type": "code",
   "execution_count": 6,
   "metadata": {
    "collapsed": false
   },
   "outputs": [],
   "source": [
    "train_df = pd.read_csv(os.path.join(\"input\", \"train.csv\"))\n",
    "train_y = train_df[\"TARGET\"]\n",
    "train_df.drop([\"ID\", \"TARGET\"], inplace=True, axis=1)\n",
    "train_df[\"n0\"] = train_df.apply(lambda x: sum(x == 0), axis=1)"
   ]
  },
  {
   "cell_type": "code",
   "execution_count": 7,
   "metadata": {
    "collapsed": false
   },
   "outputs": [],
   "source": [
    "constant_columns = find_constant_columns(train_df)\n",
    "equal_columns = find_equal_columns(train_df)\n",
    "drop_columns = list(set(constant_columns).union(equal_columns))"
   ]
  },
  {
   "cell_type": "code",
   "execution_count": 8,
   "metadata": {
    "collapsed": false
   },
   "outputs": [],
   "source": [
    "train_x = train_df.drop(drop_columns, axis=1)"
   ]
  },
  {
   "cell_type": "code",
   "execution_count": 9,
   "metadata": {
    "collapsed": false
   },
   "outputs": [],
   "source": [
    "make_feature_engineering(train_x)"
   ]
  },
  {
   "cell_type": "code",
   "execution_count": null,
   "metadata": {
    "collapsed": false
   },
   "outputs": [],
   "source": [
    "#scaler = RobustScaler()\n",
    "#scaled_train_x = scaler.fit_transform(train_x)\n",
    "#pca = PCA(2)\n",
    "#pca.fit(scaled_train_x)\n",
    "#train_pca_df = pd.DataFrame([pca.transform(scaled_train_x)], columns=[\"pca1\", \"pca2\"])\n",
    "#train_x = pd.concat([train_x, train_pca_df], axis=1)"
   ]
  },
  {
   "cell_type": "code",
   "execution_count": null,
   "metadata": {
    "collapsed": false
   },
   "outputs": [],
   "source": [
    "#if_mask = common.get_independent_features_mask(train_x.values, tol=5e-7, is_plot=False) # 5e-7\n",
    "#uncorr_mask = common.find_corr_features_mask(train_x.values, trashhold=0.995) # 0.995\n",
    "#res_mask = if_mask & uncorr_mask\n",
    "#if_mask.sum(), uncorr_mask.sum(), res_mask.sum()"
   ]
  },
  {
   "cell_type": "code",
   "execution_count": null,
   "metadata": {
    "collapsed": false
   },
   "outputs": [],
   "source": [
    "#train_x_if = train_x.loc[:, if_mask]\n",
    "#train_x_uc = train_x.loc[:, uncorr_mask]"
   ]
  },
  {
   "cell_type": "code",
   "execution_count": 10,
   "metadata": {
    "collapsed": false
   },
   "outputs": [],
   "source": [
    "cv = StratifiedKFold(train_y, 5, shuffle=True, random_state=RANDOM_STATE)"
   ]
  },
  {
   "cell_type": "markdown",
   "metadata": {},
   "source": [
    "### Создание классификаторов"
   ]
  },
  {
   "cell_type": "code",
   "execution_count": null,
   "metadata": {
    "collapsed": false
   },
   "outputs": [],
   "source": [
    "xgbc = xgb.XGBClassifier(n_estimators=560, max_depth=5, seed=1234, colsample_bytree=0.7, learning_rate=0.02,\n",
    "                         subsample=0.68)\n",
    "xgbc2 = xgb.XGBClassifier(n_estimators=560, max_depth=5, seed=1, colsample_bytree=0.7, learning_rate=0.02,\n",
    "                         subsample=0.68)\n",
    "xgbc3 = xgb.XGBClassifier(n_estimators=560, max_depth=5, seed=2, colsample_bytree=0.7, learning_rate=0.02,\n",
    "                         subsample=0.68)\n",
    "hyperopt_params = {'max_depth': 6, 'reg_lambda': 0.3014164001762216, 'gamma': 0.0, 'reg_alpha': 1.5182701064783564,\n",
    "                   'colsample_bytree': 0.5129337218504479, 'min_child_weight': 4.09637273431316, 'n_estimators': 783,\n",
    "                   'learning_rate': 0.011831660694716906, 'subsample': 0.549934788902083, \"seed\": 3}\n",
    "xgbc_h =  xgb.XGBClassifier(**hyperopt_params)"
   ]
  },
  {
   "cell_type": "code",
   "execution_count": null,
   "metadata": {
    "collapsed": false
   },
   "outputs": [],
   "source": [
    "r_params = {\"n_estimators\": 560, \"max_depth\": 5, \"seed\": 1234, \"colsample_bytree\": 0.701, \"learning_rate\": 0.0202048,\n",
    "            \"subsample\": 0.6815}\n",
    "xgbc_r = xgb.XGBClassifier(**r_params)\n",
    "\n",
    "xgbc_r_list = []\n",
    "for i_seed in range(1, 11):\n",
    "    i_seed_params = copy.deepcopy(r_params)\n",
    "    i_seed_params[\"seed\"] = i_seed\n",
    "    xgbc_r_list.append(xgb.XGBClassifier(**i_seed_params))\n",
    "    \n",
    "xgbc_h_list = []\n",
    "for i_seed in range(2, 7):\n",
    "    i_seed_params = copy.deepcopy(hyperopt_params)\n",
    "    i_seed_params[\"seed\"] = i_seed\n",
    "    xgbc_h_list.append(xgb.XGBClassifier(**i_seed_params))    "
   ]
  },
  {
   "cell_type": "code",
   "execution_count": null,
   "metadata": {
    "collapsed": false
   },
   "outputs": [],
   "source": [
    "is_weighted = [False] * len(xgbc_h_list)\n",
    "x_mask = [None] * len(xgbc_h_list)\n",
    "bc = averagers.BlendingClassifier(xgbc_h_list, is_weighted, x_mask)"
   ]
  },
  {
   "cell_type": "markdown",
   "metadata": {},
   "source": [
    "### Grid search"
   ]
  },
  {
   "cell_type": "code",
   "execution_count": null,
   "metadata": {
    "collapsed": false
   },
   "outputs": [],
   "source": [
    "params = {\"n_estimators\": [570], \"max_depth\": [5], \"seed\": [1234], \"learning_rate\": [0.02], \"subsample\": [0.68],\n",
    "          \"colsample_bytree\": [0.7]}\n",
    "gs = GridSearchCV(xgbc, params, scoring=\"roc_auc\", cv=cv, n_jobs=common.NCPU, refit=False, verbose=10)\n",
    "gs.fit(train_x, train_y)"
   ]
  },
  {
   "cell_type": "markdown",
   "metadata": {},
   "source": [
    "### Веса"
   ]
  },
  {
   "cell_type": "code",
   "execution_count": null,
   "metadata": {
    "collapsed": true
   },
   "outputs": [],
   "source": [
    "w0 = 1\n",
    "w1 = train_y.value_counts()[0] / train_y.value_counts()[1] * 0.5\n",
    "weights = np.array(list((map(lambda x: w1 if x else w0, train_y))))"
   ]
  },
  {
   "cell_type": "markdown",
   "metadata": {
    "collapsed": true
   },
   "source": [
    "### Обучение классификаторов"
   ]
  },
  {
   "cell_type": "code",
   "execution_count": null,
   "metadata": {
    "collapsed": false
   },
   "outputs": [],
   "source": [
    "xgbc.fit(train_x.values, train_y.values)"
   ]
  },
  {
   "cell_type": "code",
   "execution_count": null,
   "metadata": {
    "collapsed": false
   },
   "outputs": [],
   "source": [
    "bc.fit(train_x.values, train_y.values, weights)"
   ]
  },
  {
   "cell_type": "code",
   "execution_count": null,
   "metadata": {
    "collapsed": false
   },
   "outputs": [],
   "source": [
    "xgbc_r.fit(train_x.values, train_y.values, eval_metric=\"auc\")"
   ]
  },
  {
   "cell_type": "code",
   "execution_count": null,
   "metadata": {
    "collapsed": false
   },
   "outputs": [],
   "source": [
    "xgbc_h.fit(train_x.values, train_y.values, eval_metric=\"auc\")"
   ]
  },
  {
   "cell_type": "markdown",
   "metadata": {},
   "source": [
    "### Выходная оценка"
   ]
  },
  {
   "cell_type": "code",
   "execution_count": null,
   "metadata": {
    "collapsed": false
   },
   "outputs": [],
   "source": [
    "test_df = pd.read_csv(os.path.join(\"input\", \"test.csv\"))\n",
    "test_id = test_df[\"ID\"].values\n",
    "test_df.drop([\"ID\"], inplace=True, axis=1)\n",
    "\n",
    "test_df[\"n0\"] = test_df.apply(lambda x: sum(x == 0), axis=1)\n",
    "test_x = test_df.drop(drop_columns, axis=1)"
   ]
  },
  {
   "cell_type": "code",
   "execution_count": null,
   "metadata": {
    "collapsed": true
   },
   "outputs": [],
   "source": [
    "make_feature_engineering(test_x)"
   ]
  },
  {
   "cell_type": "code",
   "execution_count": null,
   "metadata": {
    "collapsed": true
   },
   "outputs": [],
   "source": [
    "#scaled_test_x = scaler.transform(test_x)\n",
    "#test_pca_df = pd.DataFrame(pca.transform(scaled_test_x), columns=[\"pca1\", \"pca2\", \"pca3\"])\n",
    "#test_x = pd.concat([test_x, test_pca_df], axis=1)"
   ]
  },
  {
   "cell_type": "code",
   "execution_count": null,
   "metadata": {
    "collapsed": false
   },
   "outputs": [],
   "source": [
    "#test_y = xgbc_r.predict_proba(test_x.values)[:, 1]\n",
    "#test_y = xgbc_h.predict_proba(test_x.values)[:, 1]\n",
    "test_y = bc.predict_proba(test_x.values)[:, 1]"
   ]
  },
  {
   "cell_type": "code",
   "execution_count": null,
   "metadata": {
    "collapsed": false
   },
   "outputs": [],
   "source": [
    "test_y[: 10]"
   ]
  },
  {
   "cell_type": "code",
   "execution_count": null,
   "metadata": {
    "collapsed": false
   },
   "outputs": [],
   "source": [
    "common.save_output(np.array([test_id, test_y]).T, [\"ID\", \"TARGET\"])"
   ]
  },
  {
   "cell_type": "markdown",
   "metadata": {},
   "source": [
    "### Тестирование классификаторов"
   ]
  },
  {
   "cell_type": "code",
   "execution_count": null,
   "metadata": {
    "collapsed": false
   },
   "outputs": [],
   "source": [
    "cvs = cross_val_score(copy.deepcopy(xgbc_h), train_x, train_y, scoring=\"roc_auc\", cv=cv, n_jobs=common.NCPU, verbose=1)\n",
    "cvs, cvs.mean()"
   ]
  },
  {
   "cell_type": "code",
   "execution_count": null,
   "metadata": {
    "collapsed": true
   },
   "outputs": [],
   "source": [
    "# as in r without intercept\n",
    "# array([ 0.84362984,  0.83608526,  0.84830765,  0.84150639,  0.83651392]), 0.84120861257549406\n",
    "# with 3 pca components\n",
    "# array([ 0.84474928,  0.83518445,  0.84703559,  0.84057184,  0.83586845]), 0.84068191998743524\n",
    "# 10 xgbc with different seeds\n",
    "# array([ 0.84443436,  0.83580992,  0.84851709,  0.84200755,  0.83720884]), 0.84159554920533641\n",
    "# with 2 pca components\n",
    "# array([ 0.84360169,  0.83538863,  0.84814913,  0.8421763 ,  0.8365236 ]), 0.84116787178076746\n",
    "# with var38mc and logvar38, without var38, cleaned var3\n",
    "# array([ 0.84466562,  0.83450353,  0.84818809,  0.84334212,  0.83541293]), 0.84122245852502497\n",
    "# after hyperopt with var38mc and logvar38, without var38, cleaned var3\n",
    "# array([ 0.84644761,  0.83720953,  0.84990076,  0.84543031,  0.83589067]), 0.84297577420381453\n",
    "# 10 xgbc with different seeds after hyperopt with var38mc and logvar38, without var38, cleaned var3\n",
    "# array([ 0.84608496,  0.8374632 ,  0.85016673,  0.84540045,  0.83552255]), 0.84292757970569743"
   ]
  },
  {
   "cell_type": "code",
   "execution_count": null,
   "metadata": {
    "collapsed": false
   },
   "outputs": [],
   "source": [
    "cvs = common.cross_val_score_with_weights(copy.deepcopy(bc), train_x.values, train_y.values, weights, \"roc_auc\", cv)\n",
    "cvs, cvs.mean()"
   ]
  },
  {
   "cell_type": "code",
   "execution_count": null,
   "metadata": {
    "collapsed": false
   },
   "outputs": [],
   "source": [
    "precision_recall_fscore_support(train_y.values, xgbc_r.predict(train_x.values))"
   ]
  },
  {
   "cell_type": "markdown",
   "metadata": {},
   "source": [
    "## Hyperopt"
   ]
  },
  {
   "cell_type": "code",
   "execution_count": null,
   "metadata": {
    "collapsed": true
   },
   "outputs": [],
   "source": [
    "def hyperopt_train_test(params):\n",
    "    clf = xgb.XGBClassifier(**params)\n",
    "    return cross_val_score(clf, train_x, train_y, scoring=\"roc_auc\", cv=cv, n_jobs=common.NCPU, verbose=1).mean()"
   ]
  },
  {
   "cell_type": "code",
   "execution_count": 21,
   "metadata": {
    "collapsed": true
   },
   "outputs": [],
   "source": [
    "space = {\n",
    "    \"n_estimators\": hyperopt.hp.choice(\"n_estimators\", range(500, 800)),\n",
    "    \"max_depth\": hyperopt.hp.choice(\"max_depth\", range(4, 8)),\n",
    "    \"colsample_bytree\": hyperopt.hp.uniform(\"colsample_bytree\", 0.5, 0.9),\n",
    "    \"learning_rate\": hyperopt.hp.uniform(\"learning_rate\", 0.005, 0.02),\n",
    "    \"subsample\": hyperopt.hp.uniform(\"subsample\", 0.5, 0.9),\n",
    "    \"min_child_weight\": hyperopt.hp.uniform(\"min_child_weight\", 1.0, 5.0),\n",
    "    \"reg_lambda\": hyperopt.hp.uniform(\"reg_lambda\", 0.0, 0.5),\n",
    "    \"reg_alpha\": hyperopt.hp.uniform(\"reg_alpha\", 0.0, 2.0),\n",
    "    \"seed\": hyperopt.hp.choice(\"seed\", [RANDOM_STATE]),\n",
    "}"
   ]
  },
  {
   "cell_type": "code",
   "execution_count": null,
   "metadata": {
    "collapsed": true
   },
   "outputs": [],
   "source": [
    "count = 0\n",
    "best = 0\n",
    "best_params = {}\n",
    "def f(params):\n",
    "    global best, count, best_params\n",
    "    acc = hyperopt_train_test(params)\n",
    "    if acc > best:\n",
    "        best = acc\n",
    "        best_params = params\n",
    "        print(\"new best - {0}, using - {1}\".format(acc, params))\n",
    "    \n",
    "    print(\"iters - {0}, best_acc - {1}\".format(count, best))\n",
    "    count += 1        \n",
    "    return {\"loss\": -acc, \"status\": hyperopt.STATUS_OK}"
   ]
  },
  {
   "cell_type": "code",
   "execution_count": null,
   "metadata": {
    "collapsed": false
   },
   "outputs": [],
   "source": [
    "trials = hyperopt.Trials()\n",
    "best = hyperopt.fmin(f, space, algo=hyperopt.tpe.suggest, max_evals=300, trials=trials)"
   ]
  },
  {
   "cell_type": "code",
   "execution_count": 17,
   "metadata": {
    "collapsed": false
   },
   "outputs": [
    {
     "name": "stderr",
     "output_type": "stream",
     "text": [
      "[Parallel(n_jobs=6)]: Done   2 out of   2 | elapsed:   29.1s finished\n"
     ]
    },
    {
     "name": "stdout",
     "output_type": "stream",
     "text": [
      "new best score - 0.839547415551626, best params - {'gamma': 0.0, 'min_child_weight': 3.6880165927588737, 'n_estimators': 471, 'max_depth': 5, 'learning_rate': 0.012373799498423075, 'reg_lambda': 0.10346921330960179, 'colsample_bytree': 0.5810213842368828, 'subsample': 0.6753993242909193, 'reg_alpha': 0.2242249504965924}, num test step - 0\n",
      "iters - 0, num test step - 0\n"
     ]
    },
    {
     "name": "stderr",
     "output_type": "stream",
     "text": [
      "[Parallel(n_jobs=6)]: Done   2 out of   2 | elapsed:   37.0s finished\n"
     ]
    },
    {
     "name": "stdout",
     "output_type": "stream",
     "text": [
      "new best score - 0.8244822914566069, best params - {'gamma': 0.0, 'min_child_weight': 2.335721991195849, 'n_estimators': 408, 'max_depth': 8, 'learning_rate': 0.0058171277140996415, 'reg_lambda': 0.5467084761834082, 'colsample_bytree': 0.5788734447050233, 'subsample': 0.8629979461102661, 'reg_alpha': 0.3029726202909899}, num test step - 1\n",
      "iters - 0, num test step - 1\n",
      "num_cv_step - 0, num_test_step - 0\n",
      "num_cv_step - 0, num_test_step - 1\n",
      "num_cv_step - 1, num_test_step - 0\n",
      "num_cv_step - 1, num_test_step - 1\n",
      "[[ 0.84191389  0.83440525]\n",
      " [ 0.83824571  0.82672313]]\n"
     ]
    }
   ],
   "source": [
    "hyperopt_tester = common.HyperoptTester(xgb.XGBClassifier, space, RANDOM_STATE, nf_test=4, nf_val=4)\n",
    "scores = hyperopt_tester.optimize(train_x.values, train_y.values, \"roc_auc\", max_evals=100)\n",
    "print(scores.mean(axis=0))"
   ]
  },
  {
   "cell_type": "code",
   "execution_count": 20,
   "metadata": {
    "collapsed": false
   },
   "outputs": [
    {
     "data": {
      "text/plain": [
       "{0: [0.83954741555162604,\n",
       "  {'colsample_bytree': 0.5810213842368828,\n",
       "   'gamma': 0.0,\n",
       "   'learning_rate': 0.012373799498423075,\n",
       "   'max_depth': 5,\n",
       "   'min_child_weight': 3.6880165927588737,\n",
       "   'n_estimators': 471,\n",
       "   'reg_alpha': 0.2242249504965924,\n",
       "   'reg_lambda': 0.10346921330960179,\n",
       "   'subsample': 0.6753993242909193}],\n",
       " 1: [0.8244822914566069,\n",
       "  {'colsample_bytree': 0.5788734447050233,\n",
       "   'gamma': 0.0,\n",
       "   'learning_rate': 0.0058171277140996415,\n",
       "   'max_depth': 8,\n",
       "   'min_child_weight': 2.335721991195849,\n",
       "   'n_estimators': 408,\n",
       "   'reg_alpha': 0.3029726202909899,\n",
       "   'reg_lambda': 0.5467084761834082,\n",
       "   'subsample': 0.8629979461102661}]}"
      ]
     },
     "execution_count": 20,
     "metadata": {},
     "output_type": "execute_result"
    }
   ],
   "source": [
    "hyperopt_tester.opt_params"
   ]
  },
  {
   "cell_type": "markdown",
   "metadata": {},
   "source": [
    "### VW"
   ]
  },
  {
   "cell_type": "code",
   "execution_count": null,
   "metadata": {
    "collapsed": false
   },
   "outputs": [],
   "source": [
    "input_train_file = os.path.join(\"temp\", \"scs.input_train\")\n",
    "vwutils.make_vw_input(train_x, input_train_file, y=train_y)"
   ]
  },
  {
   "cell_type": "code",
   "execution_count": null,
   "metadata": {
    "collapsed": false
   },
   "outputs": [],
   "source": [
    "input_test_file = os.path.join(\"temp\", \"scs.input_test\")\n",
    "vwutils.make_vw_input(test_x, input_test_file)"
   ]
  },
  {
   "cell_type": "markdown",
   "metadata": {},
   "source": [
    "### Тестирование кода"
   ]
  },
  {
   "cell_type": "code",
   "execution_count": null,
   "metadata": {
    "collapsed": false
   },
   "outputs": [],
   "source": [
    "x = train_x.iloc[: 1000].values\n",
    "y = train_y.iloc[: 1000].values\n",
    "w = weights[: 1000]\n",
    "x_t = test_x.iloc[: 1000].values"
   ]
  },
  {
   "cell_type": "code",
   "execution_count": null,
   "metadata": {
    "collapsed": false
   },
   "outputs": [],
   "source": [
    "common.get_most_important_features(xgbc_r, train_x.columns.values)"
   ]
  },
  {
   "cell_type": "markdown",
   "metadata": {},
   "source": [
    "## Feature engineering"
   ]
  },
  {
   "cell_type": "code",
   "execution_count": null,
   "metadata": {
    "collapsed": true
   },
   "outputs": [],
   "source": [
    "df = copy.deepcopy(train_x)"
   ]
  },
  {
   "cell_type": "code",
   "execution_count": null,
   "metadata": {
    "collapsed": false
   },
   "outputs": [],
   "source": [
    "df.loc[df[\"var3\"] == df[\"var3\"].min(), \"var3\"] = df[\"var3\"].mode()"
   ]
  },
  {
   "cell_type": "code",
   "execution_count": null,
   "metadata": {
    "collapsed": false
   },
   "outputs": [],
   "source": [
    "df[\"var38mc\"] = np.isclose(df[\"var38\"], df[\"var38\"].mode())\n",
    "df[\"logvar38\"] = df.loc[~df[\"var38mc\"], \"var38\"].map(np.log)\n",
    "df[\"logvar38\"].fillna(0, inplace=True)"
   ]
  }
 ],
 "metadata": {
  "kernelspec": {
   "display_name": "Python 3",
   "language": "python",
   "name": "python3"
  },
  "language_info": {
   "codemirror_mode": {
    "name": "ipython",
    "version": 3
   },
   "file_extension": ".py",
   "mimetype": "text/x-python",
   "name": "python",
   "nbconvert_exporter": "python",
   "pygments_lexer": "ipython3",
   "version": "3.5.1"
  }
 },
 "nbformat": 4,
 "nbformat_minor": 0
}
