{
 "cells": [
  {
   "cell_type": "code",
   "execution_count": 18,
   "metadata": {
    "collapsed": true
   },
   "outputs": [],
   "source": [
    "import warnings\n",
    "\n",
    "import numpy as np\n",
    "import pandas as pd\n",
    "import xgboost as xgb\n",
    "\n",
    "from scipy.sparse import csr_matrix\n",
    "from sklearn.metrics import log_loss, roc_auc_score\n",
    "from sklearn.cross_validation import StratifiedKFold, cross_val_score\n",
    "from sklearn.preprocessing import normalize\n",
    "from sklearn.decomposition import PCA"
   ]
  },
  {
   "cell_type": "code",
   "execution_count": 19,
   "metadata": {
    "collapsed": true
   },
   "outputs": [],
   "source": [
    "warnings.filterwarnings(\"ignore\")"
   ]
  },
  {
   "cell_type": "code",
   "execution_count": 2,
   "metadata": {
    "collapsed": true
   },
   "outputs": [],
   "source": [
    "train = pd.read_csv('input/train.csv')\n",
    "test = pd.read_csv('input/test.csv')"
   ]
  },
  {
   "cell_type": "code",
   "execution_count": 3,
   "metadata": {
    "collapsed": true
   },
   "outputs": [],
   "source": [
    "features = train.columns[1:-1]\n",
    "train.insert(1, 'SumZeros', (train[features] == 0).astype(int).sum(axis=1))\n",
    "test.insert(1, 'SumZeros', (test[features] == 0).astype(int).sum(axis=1))"
   ]
  },
  {
   "cell_type": "code",
   "execution_count": 4,
   "metadata": {
    "collapsed": true
   },
   "outputs": [],
   "source": [
    "remove = []\n",
    "c = train.columns\n",
    "for i in range(len(c)-1):\n",
    "    v = train[c[i]].values\n",
    "    for j in range(i+1, len(c)):\n",
    "        if np.array_equal(v, train[c[j]].values):\n",
    "            remove.append(c[j])"
   ]
  },
  {
   "cell_type": "code",
   "execution_count": 5,
   "metadata": {
    "collapsed": true
   },
   "outputs": [],
   "source": [
    "train.drop(remove, axis=1, inplace=True)\n",
    "test.drop(remove, axis=1, inplace=True)"
   ]
  },
  {
   "cell_type": "code",
   "execution_count": 6,
   "metadata": {
    "collapsed": true
   },
   "outputs": [],
   "source": [
    "remove = []\n",
    "for col in train.columns:\n",
    "    if train[col].std() == 0:\n",
    "        remove.append(col)"
   ]
  },
  {
   "cell_type": "code",
   "execution_count": 7,
   "metadata": {
    "collapsed": true
   },
   "outputs": [],
   "source": [
    "train.drop(remove, axis=1, inplace=True)\n",
    "test.drop(remove, axis=1, inplace=True)"
   ]
  },
  {
   "cell_type": "code",
   "execution_count": 8,
   "metadata": {
    "collapsed": true
   },
   "outputs": [],
   "source": [
    "features = train.columns[1:-1]"
   ]
  },
  {
   "cell_type": "code",
   "execution_count": 9,
   "metadata": {
    "collapsed": true
   },
   "outputs": [],
   "source": [
    "pca = PCA(n_components=2)\n",
    "x_train_projected = pca.fit_transform(normalize(train[features], axis=0))\n",
    "x_test_projected = pca.transform(normalize(test[features], axis=0))\n",
    "train.insert(1, 'PCAOne', x_train_projected[:, 0])\n",
    "train.insert(1, 'PCATwo', x_train_projected[:, 1])\n",
    "test.insert(1, 'PCAOne', x_test_projected[:, 0])\n",
    "test.insert(1, 'PCATwo', x_test_projected[:, 1])"
   ]
  },
  {
   "cell_type": "code",
   "execution_count": 10,
   "metadata": {
    "collapsed": true
   },
   "outputs": [],
   "source": [
    "tokeep = ['num_var39_0',  # 0.00031104199066874026\n",
    "          'ind_var13',  # 0.00031104199066874026\n",
    "          'num_op_var41_comer_ult3',  # 0.00031104199066874026\n",
    "          'num_var43_recib_ult1',  # 0.00031104199066874026\n",
    "          'imp_op_var41_comer_ult3',  # 0.00031104199066874026\n",
    "          'num_var8',  # 0.00031104199066874026\n",
    "          'num_var42',  # 0.00031104199066874026\n",
    "          'num_var30',  # 0.00031104199066874026\n",
    "          'saldo_var8',  # 0.00031104199066874026\n",
    "          'num_op_var39_efect_ult3',  # 0.00031104199066874026\n",
    "          'num_op_var39_comer_ult3',  # 0.00031104199066874026\n",
    "          'num_var41_0',  # 0.0006220839813374805\n",
    "          'num_op_var39_ult3',  # 0.0006220839813374805\n",
    "          'saldo_var13',  # 0.0009331259720062209\n",
    "          'num_var30_0',  # 0.0009331259720062209\n",
    "          'ind_var37_cte',  # 0.0009331259720062209\n",
    "          'ind_var39_0',  # 0.001244167962674961\n",
    "          'num_var5',  # 0.0015552099533437014\n",
    "          'ind_var10_ult1',  # 0.0015552099533437014\n",
    "          'num_op_var39_hace2',  # 0.0018662519440124418\n",
    "          'num_var22_hace2',  # 0.0018662519440124418\n",
    "          'num_var35',  # 0.0018662519440124418\n",
    "          'ind_var30',  # 0.0018662519440124418\n",
    "          'num_med_var22_ult3',  # 0.002177293934681182\n",
    "          'imp_op_var41_efect_ult1',  # 0.002488335925349922\n",
    "          'var36',  # 0.0027993779160186624\n",
    "          'num_med_var45_ult3',  # 0.003110419906687403\n",
    "          'imp_op_var39_ult1',  # 0.0037325038880248835\n",
    "          'imp_op_var39_comer_ult3',  # 0.0037325038880248835\n",
    "          'imp_trans_var37_ult1',  # 0.004043545878693624\n",
    "          'num_var5_0',  # 0.004043545878693624\n",
    "          'num_var45_ult1',  # 0.004665629860031105\n",
    "          'ind_var41_0',  # 0.0052877138413685845\n",
    "          'imp_op_var41_ult1',  # 0.0052877138413685845\n",
    "          'num_var8_0',  # 0.005598755832037325\n",
    "          'imp_op_var41_efect_ult3',  # 0.007153965785381027\n",
    "          'num_op_var41_ult3',  # 0.007153965785381027\n",
    "          'num_var22_hace3',  # 0.008087091757387248\n",
    "          'num_var4',  # 0.008087091757387248\n",
    "          'imp_op_var39_comer_ult1',  # 0.008398133748055987\n",
    "          'num_var45_ult3',  # 0.008709175738724729\n",
    "          'ind_var5',  # 0.009953343701399688\n",
    "          'imp_op_var39_efect_ult3',  # 0.009953343701399688\n",
    "          'num_meses_var5_ult3',  # 0.009953343701399688\n",
    "          'saldo_var42',  # 0.01181959564541213\n",
    "          'imp_op_var39_efect_ult1',  # 0.013374805598755831\n",
    "          'PCATwo',  # 0.013996889580093312\n",
    "          'num_var45_hace2',  # 0.014618973561430793\n",
    "          'num_var22_ult1',  # 0.017107309486780714\n",
    "          'saldo_medio_var5_ult1',  # 0.017418351477449457\n",
    "          'PCAOne',  # 0.018040435458786936\n",
    "          'saldo_var5',  # 0.0208398133748056\n",
    "          'ind_var8_0',  # 0.021150855365474338\n",
    "          'ind_var5_0',  # 0.02177293934681182\n",
    "          'num_meses_var39_vig_ult3',  # 0.024572317262830483\n",
    "          'saldo_medio_var5_ult3',  # 0.024883359253499222\n",
    "          'num_var45_hace3',  # 0.026749611197511663\n",
    "          'num_var22_ult3',  # 0.03452566096423017\n",
    "          'saldo_medio_var5_hace3',  # 0.04074650077760498\n",
    "          'saldo_medio_var5_hace2',  # 0.04292379471228616\n",
    "          'SumZeros',  # 0.04696734059097978\n",
    "          'saldo_var30',  # 0.09611197511664074\n",
    "          'var38',  # 0.1390357698289269\n",
    "          'var15']  # 0.20964230171073095"
   ]
  },
  {
   "cell_type": "code",
   "execution_count": 11,
   "metadata": {
    "collapsed": true
   },
   "outputs": [],
   "source": [
    "features = train.columns[1:-1]\n",
    "todrop = list(set(tokeep).difference(set(features)))\n",
    "train.drop(todrop, inplace=True, axis=1)\n",
    "test.drop(todrop, inplace=True, axis=1)\n",
    "features = train.columns[1:-1]"
   ]
  },
  {
   "cell_type": "code",
   "execution_count": 12,
   "metadata": {
    "collapsed": true
   },
   "outputs": [],
   "source": [
    "split = 10\n",
    "skf = StratifiedKFold(train.TARGET.values, n_folds=split, shuffle=False, random_state=42)"
   ]
  },
  {
   "cell_type": "code",
   "execution_count": 13,
   "metadata": {
    "collapsed": true
   },
   "outputs": [],
   "source": [
    "num_rounds = 350\n",
    "params = {}\n",
    "params[\"objective\"] = \"binary:logistic\"\n",
    "params[\"eta\"] = 0.03\n",
    "params[\"subsample\"] = 0.8\n",
    "params[\"colsample_bytree\"] = 0.7\n",
    "params[\"silent\"] = 1\n",
    "params[\"max_depth\"] = 5\n",
    "params[\"min_child_weight\"] = 1\n",
    "params[\"eval_metric\"] = \"auc\""
   ]
  },
  {
   "cell_type": "code",
   "execution_count": null,
   "metadata": {
    "collapsed": false
   },
   "outputs": [],
   "source": [
    "blind_roc = 0\n",
    "test_preds = np.ones(len(test))\n",
    "for train_index, test_index in skf:\n",
    "    visibletrain = train.iloc[train_index]\n",
    "    blindtrain = train.iloc[test_index]\n",
    "    dvisibletrain = xgb.DMatrix(csr_matrix(visibletrain[features]), visibletrain.TARGET.values, silent=True)\n",
    "    dblindtrain = xgb.DMatrix(csr_matrix(blindtrain[features]), blindtrain.TARGET.values, silent=True)\n",
    "    clf = xgb.train(params, dvisibletrain, num_rounds, verbose_eval=False)\n",
    "\n",
    "    blind_preds = clf.predict(dblindtrain)\n",
    "    roc = roc_auc_score(blindtrain.TARGET.values, blind_preds)\n",
    "    blind_roc += roc\n",
    "    print('Blind ROC:', roc)\n",
    "    \n",
    "    dfulltest = xgb.DMatrix(csr_matrix(test[features]), silent=True)\n",
    "    test_preds *= clf.predict(dfulltest)"
   ]
  },
  {
   "cell_type": "code",
   "execution_count": null,
   "metadata": {
    "collapsed": false
   },
   "outputs": [],
   "source": [
    "blind_roc / split"
   ]
  },
  {
   "cell_type": "code",
   "execution_count": 17,
   "metadata": {
    "collapsed": false
   },
   "outputs": [
    {
     "name": "stderr",
     "output_type": "stream",
     "text": [
      "c:\\python35\\lib\\site-packages\\sklearn\\externals\\joblib\\hashing.py:197: DeprecationWarning: Changing the shape of non-C contiguous array by\n",
      "descriptor assignment is deprecated. To maintain\n",
      "the Fortran contiguity of a multidimensional Fortran\n",
      "array, use 'a.T.view(...).T' instead\n",
      "  obj_bytes_view = obj.view(self.np.uint8)\n",
      "c:\\python35\\lib\\site-packages\\sklearn\\externals\\joblib\\hashing.py:197: DeprecationWarning: Changing the shape of non-C contiguous array by\n",
      "descriptor assignment is deprecated. To maintain\n",
      "the Fortran contiguity of a multidimensional Fortran\n",
      "array, use 'a.T.view(...).T' instead\n",
      "  obj_bytes_view = obj.view(self.np.uint8)\n",
      "c:\\python35\\lib\\site-packages\\sklearn\\externals\\joblib\\hashing.py:197: DeprecationWarning: Changing the shape of non-C contiguous array by\n",
      "descriptor assignment is deprecated. To maintain\n",
      "the Fortran contiguity of a multidimensional Fortran\n",
      "array, use 'a.T.view(...).T' instead\n",
      "  obj_bytes_view = obj.view(self.np.uint8)\n",
      "c:\\python35\\lib\\site-packages\\sklearn\\externals\\joblib\\hashing.py:197: DeprecationWarning: Changing the shape of non-C contiguous array by\n",
      "descriptor assignment is deprecated. To maintain\n",
      "the Fortran contiguity of a multidimensional Fortran\n",
      "array, use 'a.T.view(...).T' instead\n",
      "  obj_bytes_view = obj.view(self.np.uint8)\n",
      "c:\\python35\\lib\\site-packages\\sklearn\\externals\\joblib\\hashing.py:197: DeprecationWarning: Changing the shape of non-C contiguous array by\n",
      "descriptor assignment is deprecated. To maintain\n",
      "the Fortran contiguity of a multidimensional Fortran\n",
      "array, use 'a.T.view(...).T' instead\n",
      "  obj_bytes_view = obj.view(self.np.uint8)\n",
      "c:\\python35\\lib\\site-packages\\sklearn\\externals\\joblib\\hashing.py:197: DeprecationWarning: Changing the shape of non-C contiguous array by\n",
      "descriptor assignment is deprecated. To maintain\n",
      "the Fortran contiguity of a multidimensional Fortran\n",
      "array, use 'a.T.view(...).T' instead\n",
      "  obj_bytes_view = obj.view(self.np.uint8)\n",
      "c:\\python35\\lib\\site-packages\\sklearn\\externals\\joblib\\hashing.py:197: DeprecationWarning: Changing the shape of non-C contiguous array by\n",
      "descriptor assignment is deprecated. To maintain\n",
      "the Fortran contiguity of a multidimensional Fortran\n",
      "array, use 'a.T.view(...).T' instead\n",
      "  obj_bytes_view = obj.view(self.np.uint8)\n",
      "c:\\python35\\lib\\site-packages\\sklearn\\externals\\joblib\\hashing.py:197: DeprecationWarning: Changing the shape of non-C contiguous array by\n",
      "descriptor assignment is deprecated. To maintain\n",
      "the Fortran contiguity of a multidimensional Fortran\n",
      "array, use 'a.T.view(...).T' instead\n",
      "  obj_bytes_view = obj.view(self.np.uint8)\n",
      "[Parallel(n_jobs=6)]: Done  11 out of  10 | elapsed:  3.4min remaining:    0.0s\n",
      "c:\\python35\\lib\\site-packages\\sklearn\\externals\\joblib\\hashing.py:197: DeprecationWarning: Changing the shape of non-C contiguous array by\n",
      "descriptor assignment is deprecated. To maintain\n",
      "the Fortran contiguity of a multidimensional Fortran\n",
      "array, use 'a.T.view(...).T' instead\n",
      "  obj_bytes_view = obj.view(self.np.uint8)\n",
      "[Parallel(n_jobs=6)]: Done  11 out of  10 | elapsed:  3.7min remaining:    0.0s\n",
      "c:\\python35\\lib\\site-packages\\sklearn\\externals\\joblib\\hashing.py:197: DeprecationWarning: Changing the shape of non-C contiguous array by\n",
      "descriptor assignment is deprecated. To maintain\n",
      "the Fortran contiguity of a multidimensional Fortran\n",
      "array, use 'a.T.view(...).T' instead\n",
      "  obj_bytes_view = obj.view(self.np.uint8)\n",
      "[Parallel(n_jobs=6)]: Done  11 out of  10 | elapsed:  3.9min remaining:    0.0s\n",
      "[Parallel(n_jobs=6)]: Done  11 out of  10 | elapsed:  4.3min remaining:    0.0s\n",
      "[Parallel(n_jobs=6)]: Done  11 out of  10 | elapsed:  4.8min remaining:    0.0s\n",
      "[Parallel(n_jobs=6)]: Done  11 out of  10 | elapsed:  5.7min remaining:    0.0s\n",
      "[Parallel(n_jobs=6)]: Done  11 out of  10 | elapsed:  6.3min remaining:    0.0s\n",
      "[Parallel(n_jobs=6)]: Done  11 out of  10 | elapsed:  6.5min remaining:    0.0s\n",
      "[Parallel(n_jobs=6)]: Done  11 out of  10 | elapsed:  6.6min remaining:    0.0s\n",
      "[Parallel(n_jobs=6)]: Done  10 out of  10 | elapsed:  6.6min finished\n"
     ]
    },
    {
     "data": {
      "text/plain": [
       "0.84003953276244903"
      ]
     },
     "execution_count": 17,
     "metadata": {},
     "output_type": "execute_result"
    }
   ],
   "source": [
    "params = {}\n",
    "params[\"objective\"] = \"binary:logistic\"\n",
    "params[\"learning_rate\"] = 0.03\n",
    "params[\"subsample\"] = 0.8\n",
    "params[\"colsample_bytree\"] = 0.7\n",
    "params[\"silent\"] = 1\n",
    "params[\"max_depth\"] = 5\n",
    "params[\"min_child_weight\"] = 1\n",
    "params[\"n_estimators\"] = 350\n",
    "clf = xgb.XGBClassifier(**params)\n",
    "cross_val_score(clf, train[features].values, train.TARGET.values, scoring=\"roc_auc\", cv=skf, n_jobs=6,\n",
    "                verbose=1).mean()"
   ]
  },
  {
   "cell_type": "code",
   "execution_count": 27,
   "metadata": {
    "collapsed": false
   },
   "outputs": [],
   "source": [
    "#test_preds = np.power(test_preds, 1./split)\n",
    "clf.fit(train[features].values, train.TARGET.values)\n",
    "test_preds = clf.predict_proba(test[features].values)[:, 1]"
   ]
  },
  {
   "cell_type": "code",
   "execution_count": 28,
   "metadata": {
    "collapsed": false
   },
   "outputs": [],
   "source": [
    "submission = pd.DataFrame({\"ID\": test.ID, \"TARGET\": test_preds})\n",
    "submission.to_csv(\"simplexgbtest.csv\", index=False)"
   ]
  },
  {
   "cell_type": "code",
   "execution_count": null,
   "metadata": {
    "collapsed": true
   },
   "outputs": [],
   "source": [
    "# first - 0.83994891870680188, 0.84003953276244903"
   ]
  },
  {
   "cell_type": "markdown",
   "metadata": {},
   "source": [
    "### Hyperopt"
   ]
  },
  {
   "cell_type": "code",
   "execution_count": null,
   "metadata": {
    "collapsed": true
   },
   "outputs": [],
   "source": [
    "def hyperopt_train_test(params):\n",
    "    clf = xgb.XGBClassifier(**params)\n",
    "    return cross_val_score(clf, train_x, train_y, scoring=\"roc_auc\", cv=cv, n_jobs=common.NCPU, verbose=1).mean()"
   ]
  }
 ],
 "metadata": {
  "kernelspec": {
   "display_name": "Python 3",
   "language": "python",
   "name": "python3"
  },
  "language_info": {
   "codemirror_mode": {
    "name": "ipython",
    "version": 3
   },
   "file_extension": ".py",
   "mimetype": "text/x-python",
   "name": "python",
   "nbconvert_exporter": "python",
   "pygments_lexer": "ipython3",
   "version": "3.5.1"
  }
 },
 "nbformat": 4,
 "nbformat_minor": 0
}
